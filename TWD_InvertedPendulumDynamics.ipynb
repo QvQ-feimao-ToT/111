{
  "nbformat": 4,
  "nbformat_minor": 0,
  "metadata": {
    "colab": {
      "provenance": []
    },
    "kernelspec": {
      "name": "python3",
      "display_name": "Python 3"
    },
    "language_info": {
      "name": "python"
    }
  },
  "cells": [
    {
      "cell_type": "code",
      "source": [
        "import sympy as sp\n",
        "from IPython.display import display, clear_output\n",
        "\n",
        "#--------------- MAIN DEFINITIONS ---------------\n",
        "#Time\n",
        "t = sp.Symbol('t', real=True);\n",
        "# ........................\n",
        "# Coordinates variables\n",
        "x0 = sp.Symbol('x0', real=True);\n",
        "y0 = sp.Symbol('y0', real=True);\n",
        "z0 = sp.Symbol('z0', real=True);\n",
        "\n",
        "x1 = sp.Symbol('x1', real=True);\n",
        "y1 = sp.Symbol('y1', real=True);\n",
        "z1 = sp.Symbol('z1', real=True);\n",
        "\n",
        "x2 = sp.Symbol('x2', real=True);\n",
        "y2 = sp.Symbol('y2', real=True);\n",
        "z2 = sp.Symbol('z2', real=True);\n",
        "\n",
        "l = sp.Symbol('l', real=True); #magnitude of the vector distance from frame 1 to frame 4 (modulus)\n",
        "d = sp.Symbol('d', real=True); #magnitude of the vector distance from frame 2 to frame 3 (modulus)\n",
        "\n",
        "alpha_L = sp.Function('alpha_L', real=True); #rotation angle of the left wheel\n",
        "alpha_R = sp.Function('alpha_R', real=True); #rotation angle of the right wheel\n",
        "\n",
        "#Masses\n",
        "m_b = sp.Symbol('m_b', real=True); #body mass\n",
        "m_w = sp.Symbol('m_w', real=True); #wheel mass\n",
        "\n",
        "g = sp.Symbol('g', real=True); #gravity\n",
        "r = sp.Symbol('r', real=True); #wheel radius\n",
        "# ........................\n",
        "# Robot configuration variables (CONFERIR)\n",
        "# p_c = sp.Function('p_c', real=True); #CONFERIR\n",
        "x_c = sp.Function('x_c', real=True); #CONFERIR\n",
        "y_c = sp.Function('y_c', real=True); #CONFERIR\n",
        "\n",
        "phi= sp.Function('phi', real=True);\n",
        "theta = sp.Function('theta', real=True);\n",
        "\n",
        " #CONFERIR\n",
        "# q = sp.Matrix([[p_c(t)],\\\n",
        "#               [theta(t)],\\\n",
        "#               [phi(t)]]\n",
        "#               )\n",
        "# q = sp.Matrix([[x_c(t)],\\\n",
        "#               [y_c(t)],\\\n",
        "#               [theta(t)],\\\n",
        "#               [phi(t)],\\\n",
        "#               [alpha_L(t)],\\\n",
        "#               [alpha_R(t)]],\\\n",
        "\n",
        "#               )\n",
        "\n",
        "q = sp.Matrix([[x_c(t)],\\\n",
        "              [y_c(t)],\\\n",
        "              [phi(t)],\\\n",
        "              [theta(t)],\\\n",
        "              [alpha_R(t)],\\\n",
        "             [alpha_L(t)]],\\\n",
        "\n",
        "              )\n",
        "\n",
        "q_dot = sp.simplify(sp.diff(q,t))\n",
        "# ........................\n",
        "#Inertia matrices\n",
        "Iw1 = sp.Symbol('K', real=True); #MUDAR!\n",
        "Iw2 = sp.Symbol('J', real=True);\n",
        "Iw3 = sp.Symbol('K', real=True);\n",
        "\n",
        "Ib1 = sp.Symbol('Ib1', real=True);\n",
        "Ib2 = sp.Symbol('Ib2', real=True);\n",
        "Ib3 = sp.Symbol('Ib3', real=True);\n",
        "\n",
        "I_w = sp.Matrix([[Iw1, 0, 0],\\\n",
        "                [0, Iw2, 0],\\\n",
        "                [0, 0, Iw1]])\n",
        "\n",
        "I_b = sp.Matrix([[Ib1, 0, 0],\\\n",
        "                [0, Ib2, 0],\\\n",
        "                [0, 0, Ib3]])\n",
        "# ........................\n",
        "\n"
      ],
      "metadata": {
        "id": "rgQwyob5WtM9"
      },
      "execution_count": 14,
      "outputs": []
    },
    {
      "cell_type": "code",
      "source": [
        "def get_rotation(var, axis:str):\n",
        "  if not axis in ['x', 'y', 'z']:\n",
        "    return None\n",
        "  if axis == 'x':\n",
        "    R = sp.Matrix([[1, 0, 0],\\\n",
        "                [0, sp.cos(var), -sp.sin(var)],\\\n",
        "                [0, sp.sin(var), sp.cos(var)]\n",
        "                   ])\n",
        "  if axis == 'y':\n",
        "    R = sp.Matrix([[sp.cos(var),0, sp.sin(var)],\\\n",
        "                [0, 1, 0],\\\n",
        "                [-sp.sin(var), 0, sp.cos(var)]])\n",
        "  if axis == 'z':\n",
        "    R = sp.Matrix([[sp.cos(var), -sp.sin(var), 0],\\\n",
        "                [sp.sin(var), sp.cos(var), 0],\\\n",
        "                [0, 0, 1]])\n",
        "  R_dot = sp.simplify(sp.diff(R, t))\n",
        "  Sw = sp.simplify(R_dot*sp.transpose(R))\n",
        "  w = sp.Matrix([[Sw[2,1]],\\\n",
        "                [-Sw[2,0]],\\\n",
        "                 [Sw[1,0] ]])\n",
        "  return [R, R_dot, Sw, w]\n",
        "\n",
        "#--------------- ROTATION MATRICES ---------------\n",
        "#R1_0 = R(z,phi)\n",
        "R1_0, R1_0_dot, Sw1_0, w1_0 = get_rotation(phi(t), 'z')\n",
        "display('R1_0: ', R1_0)\n",
        "display('R1_0_dot: ', R1_0_dot)\n",
        "display('Sw1_0: ', Sw1_0)\n",
        "display('w1_0: ', w1_0)\n",
        "print('-----------------------------------------')\n",
        "# ........................\n",
        "\n",
        "#R4_1 = R(y,theta)\n",
        "R4_1, R4_1_dot, Sw4_1, w4_1 = get_rotation(theta(t), 'y')\n",
        "display('R4_1: ', R4_1)\n",
        "\n",
        "#R4_0 = R1_0.R4_1\n",
        "R4_0 = R1_0*R4_1\n",
        "R4_0_dot = sp.simplify(sp.diff(R4_0, t))\n",
        "Sw4_0 = sp.simplify(sp.transpose(R4_0)*R4_0_dot) #sp.simplify(R4_0_dot*sp.transpose(R4_0))\n",
        "w4_0 = sp.Matrix([[Sw4_0[2,1]],\\\n",
        "              [-Sw4_0[2,0]],\\\n",
        "                [Sw4_0[1,0] ]])\n",
        "display('R4_0: ', R4_0)\n",
        "display('R4_0_dot: ', R4_0_dot)\n",
        "display('Sw4_0: ', Sw4_0)\n",
        "display('w4_0: ', w4_0)\n",
        "print('-----------------------------------------')\n",
        "# ........................\n",
        "\n",
        "#R2_1 = R(y,alpha_L)\n",
        "R2_1 = get_rotation(alpha_R(t), 'y')[0] #CONFERIR\n",
        "#R2_1 = sp.Identity(3)\n",
        "\n",
        "#R2_0 = R2_0.R2_1\n",
        "R2_0 = R1_0*R2_1\n",
        "R2_0_dot = sp.simplify(sp.diff(R2_0, t))\n",
        "#R2_0_dot = R2_0_dot.subs(sp.diff(alpha_R(t), t), (P2_0_dot[0]*sp.cos(phi(t)) + P2_0_dot[1]*sp.sin(phi(t)))/r) #REMOVER\n",
        "Sw2_0 = sp.simplify(sp.transpose(R2_0)*R2_0_dot) #CONFERIR\n",
        "w2_0 = sp.Matrix([[Sw2_0[2,1]],\\\n",
        "              [-Sw2_0[2,0]],\\\n",
        "                [Sw2_0[1,0] ]])\n",
        "\n",
        "display('R2_0: ', R2_0)\n",
        "display('R2_0_dot: ', R2_0_dot)\n",
        "display('Sw2_0: ', Sw2_0)\n",
        "display('w2_0: ', w2_0)\n",
        "print('-----------------------------------------')\n",
        "# ........................\n",
        "\n",
        "#R3_1 = R(y,alpha_L)\n",
        "R3_1 = get_rotation(alpha_L(t), 'y')[0] #CONFERIR\n",
        "#R3_1 = sp.Identity(3)\n",
        "\n",
        "#R3_0 = R3_0.R3_1\n",
        "R3_0 = R1_0*R3_1\n",
        "R3_0_dot = sp.simplify(sp.diff(R3_0, t))\n",
        "Sw3_0 = sp.simplify(sp.transpose(R3_0)*R3_0_dot) #\n",
        "w3_0 = sp.Matrix([[Sw3_0[2,1]],\\\n",
        "              [-Sw3_0[2,0]],\\\n",
        "                [Sw3_0[1,0] ]])\n",
        "display('R3_0: ', R3_0)\n",
        "display('R3_0_dot: ', R3_0_dot)\n",
        "display('Sw3_0: ', Sw3_0)\n",
        "display('w3_0: ', w3_0)\n",
        "print('-----------------------------------------')\n",
        "# ........................\n",
        "#------------------------------------------------"
      ],
      "metadata": {
        "colab": {
          "base_uri": "https://localhost:8080/",
          "height": 1000
        },
        "id": "-NBvPETY0x5-",
        "outputId": "46c09d94-adb8-4a7e-9f05-65850d6853ba"
      },
      "execution_count": 15,
      "outputs": [
        {
          "output_type": "display_data",
          "data": {
            "text/plain": [
              "'R1_0: '"
            ],
            "application/vnd.google.colaboratory.intrinsic+json": {
              "type": "string"
            }
          },
          "metadata": {}
        },
        {
          "output_type": "display_data",
          "data": {
            "text/plain": [
              "Matrix([\n",
              "[cos(phi(t)), -sin(phi(t)), 0],\n",
              "[sin(phi(t)),  cos(phi(t)), 0],\n",
              "[          0,            0, 1]])"
            ],
            "text/latex": "$\\displaystyle \\left[\\begin{matrix}\\cos{\\left(\\phi{\\left(t \\right)} \\right)} & - \\sin{\\left(\\phi{\\left(t \\right)} \\right)} & 0\\\\\\sin{\\left(\\phi{\\left(t \\right)} \\right)} & \\cos{\\left(\\phi{\\left(t \\right)} \\right)} & 0\\\\0 & 0 & 1\\end{matrix}\\right]$"
          },
          "metadata": {}
        },
        {
          "output_type": "display_data",
          "data": {
            "text/plain": [
              "'R1_0_dot: '"
            ],
            "application/vnd.google.colaboratory.intrinsic+json": {
              "type": "string"
            }
          },
          "metadata": {}
        },
        {
          "output_type": "display_data",
          "data": {
            "text/plain": [
              "Matrix([\n",
              "[-sin(phi(t))*Derivative(phi(t), t), -cos(phi(t))*Derivative(phi(t), t), 0],\n",
              "[ cos(phi(t))*Derivative(phi(t), t), -sin(phi(t))*Derivative(phi(t), t), 0],\n",
              "[                                 0,                                  0, 0]])"
            ],
            "text/latex": "$\\displaystyle \\left[\\begin{matrix}- \\sin{\\left(\\phi{\\left(t \\right)} \\right)} \\frac{d}{d t} \\phi{\\left(t \\right)} & - \\cos{\\left(\\phi{\\left(t \\right)} \\right)} \\frac{d}{d t} \\phi{\\left(t \\right)} & 0\\\\\\cos{\\left(\\phi{\\left(t \\right)} \\right)} \\frac{d}{d t} \\phi{\\left(t \\right)} & - \\sin{\\left(\\phi{\\left(t \\right)} \\right)} \\frac{d}{d t} \\phi{\\left(t \\right)} & 0\\\\0 & 0 & 0\\end{matrix}\\right]$"
          },
          "metadata": {}
        },
        {
          "output_type": "display_data",
          "data": {
            "text/plain": [
              "'Sw1_0: '"
            ],
            "application/vnd.google.colaboratory.intrinsic+json": {
              "type": "string"
            }
          },
          "metadata": {}
        },
        {
          "output_type": "display_data",
          "data": {
            "text/plain": [
              "Matrix([\n",
              "[                    0, -Derivative(phi(t), t), 0],\n",
              "[Derivative(phi(t), t),                      0, 0],\n",
              "[                    0,                      0, 0]])"
            ],
            "text/latex": "$\\displaystyle \\left[\\begin{matrix}0 & - \\frac{d}{d t} \\phi{\\left(t \\right)} & 0\\\\\\frac{d}{d t} \\phi{\\left(t \\right)} & 0 & 0\\\\0 & 0 & 0\\end{matrix}\\right]$"
          },
          "metadata": {}
        },
        {
          "output_type": "display_data",
          "data": {
            "text/plain": [
              "'w1_0: '"
            ],
            "application/vnd.google.colaboratory.intrinsic+json": {
              "type": "string"
            }
          },
          "metadata": {}
        },
        {
          "output_type": "display_data",
          "data": {
            "text/plain": [
              "Matrix([\n",
              "[                    0],\n",
              "[                    0],\n",
              "[Derivative(phi(t), t)]])"
            ],
            "text/latex": "$\\displaystyle \\left[\\begin{matrix}0\\\\0\\\\\\frac{d}{d t} \\phi{\\left(t \\right)}\\end{matrix}\\right]$"
          },
          "metadata": {}
        },
        {
          "output_type": "stream",
          "name": "stdout",
          "text": [
            "-----------------------------------------\n"
          ]
        },
        {
          "output_type": "display_data",
          "data": {
            "text/plain": [
              "'R4_1: '"
            ],
            "application/vnd.google.colaboratory.intrinsic+json": {
              "type": "string"
            }
          },
          "metadata": {}
        },
        {
          "output_type": "display_data",
          "data": {
            "text/plain": [
              "Matrix([\n",
              "[ cos(theta(t)), 0, sin(theta(t))],\n",
              "[             0, 1,             0],\n",
              "[-sin(theta(t)), 0, cos(theta(t))]])"
            ],
            "text/latex": "$\\displaystyle \\left[\\begin{matrix}\\cos{\\left(\\theta{\\left(t \\right)} \\right)} & 0 & \\sin{\\left(\\theta{\\left(t \\right)} \\right)}\\\\0 & 1 & 0\\\\- \\sin{\\left(\\theta{\\left(t \\right)} \\right)} & 0 & \\cos{\\left(\\theta{\\left(t \\right)} \\right)}\\end{matrix}\\right]$"
          },
          "metadata": {}
        },
        {
          "output_type": "display_data",
          "data": {
            "text/plain": [
              "'R4_0: '"
            ],
            "application/vnd.google.colaboratory.intrinsic+json": {
              "type": "string"
            }
          },
          "metadata": {}
        },
        {
          "output_type": "display_data",
          "data": {
            "text/plain": [
              "Matrix([\n",
              "[cos(phi(t))*cos(theta(t)), -sin(phi(t)), sin(theta(t))*cos(phi(t))],\n",
              "[sin(phi(t))*cos(theta(t)),  cos(phi(t)), sin(phi(t))*sin(theta(t))],\n",
              "[           -sin(theta(t)),            0,             cos(theta(t))]])"
            ],
            "text/latex": "$\\displaystyle \\left[\\begin{matrix}\\cos{\\left(\\phi{\\left(t \\right)} \\right)} \\cos{\\left(\\theta{\\left(t \\right)} \\right)} & - \\sin{\\left(\\phi{\\left(t \\right)} \\right)} & \\sin{\\left(\\theta{\\left(t \\right)} \\right)} \\cos{\\left(\\phi{\\left(t \\right)} \\right)}\\\\\\sin{\\left(\\phi{\\left(t \\right)} \\right)} \\cos{\\left(\\theta{\\left(t \\right)} \\right)} & \\cos{\\left(\\phi{\\left(t \\right)} \\right)} & \\sin{\\left(\\phi{\\left(t \\right)} \\right)} \\sin{\\left(\\theta{\\left(t \\right)} \\right)}\\\\- \\sin{\\left(\\theta{\\left(t \\right)} \\right)} & 0 & \\cos{\\left(\\theta{\\left(t \\right)} \\right)}\\end{matrix}\\right]$"
          },
          "metadata": {}
        },
        {
          "output_type": "display_data",
          "data": {
            "text/plain": [
              "'R4_0_dot: '"
            ],
            "application/vnd.google.colaboratory.intrinsic+json": {
              "type": "string"
            }
          },
          "metadata": {}
        },
        {
          "output_type": "display_data",
          "data": {
            "text/plain": [
              "Matrix([\n",
              "[-sin(phi(t))*cos(theta(t))*Derivative(phi(t), t) - sin(theta(t))*cos(phi(t))*Derivative(theta(t), t), -cos(phi(t))*Derivative(phi(t), t), -sin(phi(t))*sin(theta(t))*Derivative(phi(t), t) + cos(phi(t))*cos(theta(t))*Derivative(theta(t), t)],\n",
              "[-sin(phi(t))*sin(theta(t))*Derivative(theta(t), t) + cos(phi(t))*cos(theta(t))*Derivative(phi(t), t), -sin(phi(t))*Derivative(phi(t), t),  sin(phi(t))*cos(theta(t))*Derivative(theta(t), t) + sin(theta(t))*cos(phi(t))*Derivative(phi(t), t)],\n",
              "[                                                              -cos(theta(t))*Derivative(theta(t), t),                                  0,                                                               -sin(theta(t))*Derivative(theta(t), t)]])"
            ],
            "text/latex": "$\\displaystyle \\left[\\begin{matrix}- \\sin{\\left(\\phi{\\left(t \\right)} \\right)} \\cos{\\left(\\theta{\\left(t \\right)} \\right)} \\frac{d}{d t} \\phi{\\left(t \\right)} - \\sin{\\left(\\theta{\\left(t \\right)} \\right)} \\cos{\\left(\\phi{\\left(t \\right)} \\right)} \\frac{d}{d t} \\theta{\\left(t \\right)} & - \\cos{\\left(\\phi{\\left(t \\right)} \\right)} \\frac{d}{d t} \\phi{\\left(t \\right)} & - \\sin{\\left(\\phi{\\left(t \\right)} \\right)} \\sin{\\left(\\theta{\\left(t \\right)} \\right)} \\frac{d}{d t} \\phi{\\left(t \\right)} + \\cos{\\left(\\phi{\\left(t \\right)} \\right)} \\cos{\\left(\\theta{\\left(t \\right)} \\right)} \\frac{d}{d t} \\theta{\\left(t \\right)}\\\\- \\sin{\\left(\\phi{\\left(t \\right)} \\right)} \\sin{\\left(\\theta{\\left(t \\right)} \\right)} \\frac{d}{d t} \\theta{\\left(t \\right)} + \\cos{\\left(\\phi{\\left(t \\right)} \\right)} \\cos{\\left(\\theta{\\left(t \\right)} \\right)} \\frac{d}{d t} \\phi{\\left(t \\right)} & - \\sin{\\left(\\phi{\\left(t \\right)} \\right)} \\frac{d}{d t} \\phi{\\left(t \\right)} & \\sin{\\left(\\phi{\\left(t \\right)} \\right)} \\cos{\\left(\\theta{\\left(t \\right)} \\right)} \\frac{d}{d t} \\theta{\\left(t \\right)} + \\sin{\\left(\\theta{\\left(t \\right)} \\right)} \\cos{\\left(\\phi{\\left(t \\right)} \\right)} \\frac{d}{d t} \\phi{\\left(t \\right)}\\\\- \\cos{\\left(\\theta{\\left(t \\right)} \\right)} \\frac{d}{d t} \\theta{\\left(t \\right)} & 0 & - \\sin{\\left(\\theta{\\left(t \\right)} \\right)} \\frac{d}{d t} \\theta{\\left(t \\right)}\\end{matrix}\\right]$"
          },
          "metadata": {}
        },
        {
          "output_type": "display_data",
          "data": {
            "text/plain": [
              "'Sw4_0: '"
            ],
            "application/vnd.google.colaboratory.intrinsic+json": {
              "type": "string"
            }
          },
          "metadata": {}
        },
        {
          "output_type": "display_data",
          "data": {
            "text/plain": [
              "Matrix([\n",
              "[                                  0, -cos(theta(t))*Derivative(phi(t), t),             Derivative(theta(t), t)],\n",
              "[cos(theta(t))*Derivative(phi(t), t),                                    0, sin(theta(t))*Derivative(phi(t), t)],\n",
              "[           -Derivative(theta(t), t), -sin(theta(t))*Derivative(phi(t), t),                                   0]])"
            ],
            "text/latex": "$\\displaystyle \\left[\\begin{matrix}0 & - \\cos{\\left(\\theta{\\left(t \\right)} \\right)} \\frac{d}{d t} \\phi{\\left(t \\right)} & \\frac{d}{d t} \\theta{\\left(t \\right)}\\\\\\cos{\\left(\\theta{\\left(t \\right)} \\right)} \\frac{d}{d t} \\phi{\\left(t \\right)} & 0 & \\sin{\\left(\\theta{\\left(t \\right)} \\right)} \\frac{d}{d t} \\phi{\\left(t \\right)}\\\\- \\frac{d}{d t} \\theta{\\left(t \\right)} & - \\sin{\\left(\\theta{\\left(t \\right)} \\right)} \\frac{d}{d t} \\phi{\\left(t \\right)} & 0\\end{matrix}\\right]$"
          },
          "metadata": {}
        },
        {
          "output_type": "display_data",
          "data": {
            "text/plain": [
              "'w4_0: '"
            ],
            "application/vnd.google.colaboratory.intrinsic+json": {
              "type": "string"
            }
          },
          "metadata": {}
        },
        {
          "output_type": "display_data",
          "data": {
            "text/plain": [
              "Matrix([\n",
              "[-sin(theta(t))*Derivative(phi(t), t)],\n",
              "[             Derivative(theta(t), t)],\n",
              "[ cos(theta(t))*Derivative(phi(t), t)]])"
            ],
            "text/latex": "$\\displaystyle \\left[\\begin{matrix}- \\sin{\\left(\\theta{\\left(t \\right)} \\right)} \\frac{d}{d t} \\phi{\\left(t \\right)}\\\\\\frac{d}{d t} \\theta{\\left(t \\right)}\\\\\\cos{\\left(\\theta{\\left(t \\right)} \\right)} \\frac{d}{d t} \\phi{\\left(t \\right)}\\end{matrix}\\right]$"
          },
          "metadata": {}
        },
        {
          "output_type": "stream",
          "name": "stdout",
          "text": [
            "-----------------------------------------\n"
          ]
        },
        {
          "output_type": "display_data",
          "data": {
            "text/plain": [
              "'R2_0: '"
            ],
            "application/vnd.google.colaboratory.intrinsic+json": {
              "type": "string"
            }
          },
          "metadata": {}
        },
        {
          "output_type": "display_data",
          "data": {
            "text/plain": [
              "Matrix([\n",
              "[cos(alpha_R(t))*cos(phi(t)), -sin(phi(t)), sin(alpha_R(t))*cos(phi(t))],\n",
              "[sin(phi(t))*cos(alpha_R(t)),  cos(phi(t)), sin(alpha_R(t))*sin(phi(t))],\n",
              "[           -sin(alpha_R(t)),            0,             cos(alpha_R(t))]])"
            ],
            "text/latex": "$\\displaystyle \\left[\\begin{matrix}\\cos{\\left(\\alpha_{R}{\\left(t \\right)} \\right)} \\cos{\\left(\\phi{\\left(t \\right)} \\right)} & - \\sin{\\left(\\phi{\\left(t \\right)} \\right)} & \\sin{\\left(\\alpha_{R}{\\left(t \\right)} \\right)} \\cos{\\left(\\phi{\\left(t \\right)} \\right)}\\\\\\sin{\\left(\\phi{\\left(t \\right)} \\right)} \\cos{\\left(\\alpha_{R}{\\left(t \\right)} \\right)} & \\cos{\\left(\\phi{\\left(t \\right)} \\right)} & \\sin{\\left(\\alpha_{R}{\\left(t \\right)} \\right)} \\sin{\\left(\\phi{\\left(t \\right)} \\right)}\\\\- \\sin{\\left(\\alpha_{R}{\\left(t \\right)} \\right)} & 0 & \\cos{\\left(\\alpha_{R}{\\left(t \\right)} \\right)}\\end{matrix}\\right]$"
          },
          "metadata": {}
        },
        {
          "output_type": "display_data",
          "data": {
            "text/plain": [
              "'R2_0_dot: '"
            ],
            "application/vnd.google.colaboratory.intrinsic+json": {
              "type": "string"
            }
          },
          "metadata": {}
        },
        {
          "output_type": "display_data",
          "data": {
            "text/plain": [
              "Matrix([\n",
              "[-sin(alpha_R(t))*cos(phi(t))*Derivative(alpha_R(t), t) - sin(phi(t))*cos(alpha_R(t))*Derivative(phi(t), t), -cos(phi(t))*Derivative(phi(t), t), -sin(alpha_R(t))*sin(phi(t))*Derivative(phi(t), t) + cos(alpha_R(t))*cos(phi(t))*Derivative(alpha_R(t), t)],\n",
              "[-sin(alpha_R(t))*sin(phi(t))*Derivative(alpha_R(t), t) + cos(alpha_R(t))*cos(phi(t))*Derivative(phi(t), t), -sin(phi(t))*Derivative(phi(t), t),  sin(alpha_R(t))*cos(phi(t))*Derivative(phi(t), t) + sin(phi(t))*cos(alpha_R(t))*Derivative(alpha_R(t), t)],\n",
              "[                                                                -cos(alpha_R(t))*Derivative(alpha_R(t), t),                                  0,                                                                 -sin(alpha_R(t))*Derivative(alpha_R(t), t)]])"
            ],
            "text/latex": "$\\displaystyle \\left[\\begin{matrix}- \\sin{\\left(\\alpha_{R}{\\left(t \\right)} \\right)} \\cos{\\left(\\phi{\\left(t \\right)} \\right)} \\frac{d}{d t} \\alpha_{R}{\\left(t \\right)} - \\sin{\\left(\\phi{\\left(t \\right)} \\right)} \\cos{\\left(\\alpha_{R}{\\left(t \\right)} \\right)} \\frac{d}{d t} \\phi{\\left(t \\right)} & - \\cos{\\left(\\phi{\\left(t \\right)} \\right)} \\frac{d}{d t} \\phi{\\left(t \\right)} & - \\sin{\\left(\\alpha_{R}{\\left(t \\right)} \\right)} \\sin{\\left(\\phi{\\left(t \\right)} \\right)} \\frac{d}{d t} \\phi{\\left(t \\right)} + \\cos{\\left(\\alpha_{R}{\\left(t \\right)} \\right)} \\cos{\\left(\\phi{\\left(t \\right)} \\right)} \\frac{d}{d t} \\alpha_{R}{\\left(t \\right)}\\\\- \\sin{\\left(\\alpha_{R}{\\left(t \\right)} \\right)} \\sin{\\left(\\phi{\\left(t \\right)} \\right)} \\frac{d}{d t} \\alpha_{R}{\\left(t \\right)} + \\cos{\\left(\\alpha_{R}{\\left(t \\right)} \\right)} \\cos{\\left(\\phi{\\left(t \\right)} \\right)} \\frac{d}{d t} \\phi{\\left(t \\right)} & - \\sin{\\left(\\phi{\\left(t \\right)} \\right)} \\frac{d}{d t} \\phi{\\left(t \\right)} & \\sin{\\left(\\alpha_{R}{\\left(t \\right)} \\right)} \\cos{\\left(\\phi{\\left(t \\right)} \\right)} \\frac{d}{d t} \\phi{\\left(t \\right)} + \\sin{\\left(\\phi{\\left(t \\right)} \\right)} \\cos{\\left(\\alpha_{R}{\\left(t \\right)} \\right)} \\frac{d}{d t} \\alpha_{R}{\\left(t \\right)}\\\\- \\cos{\\left(\\alpha_{R}{\\left(t \\right)} \\right)} \\frac{d}{d t} \\alpha_{R}{\\left(t \\right)} & 0 & - \\sin{\\left(\\alpha_{R}{\\left(t \\right)} \\right)} \\frac{d}{d t} \\alpha_{R}{\\left(t \\right)}\\end{matrix}\\right]$"
          },
          "metadata": {}
        },
        {
          "output_type": "display_data",
          "data": {
            "text/plain": [
              "'Sw2_0: '"
            ],
            "application/vnd.google.colaboratory.intrinsic+json": {
              "type": "string"
            }
          },
          "metadata": {}
        },
        {
          "output_type": "display_data",
          "data": {
            "text/plain": [
              "Matrix([\n",
              "[                                    0, -cos(alpha_R(t))*Derivative(phi(t), t),             Derivative(alpha_R(t), t)],\n",
              "[cos(alpha_R(t))*Derivative(phi(t), t),                                      0, sin(alpha_R(t))*Derivative(phi(t), t)],\n",
              "[           -Derivative(alpha_R(t), t), -sin(alpha_R(t))*Derivative(phi(t), t),                                     0]])"
            ],
            "text/latex": "$\\displaystyle \\left[\\begin{matrix}0 & - \\cos{\\left(\\alpha_{R}{\\left(t \\right)} \\right)} \\frac{d}{d t} \\phi{\\left(t \\right)} & \\frac{d}{d t} \\alpha_{R}{\\left(t \\right)}\\\\\\cos{\\left(\\alpha_{R}{\\left(t \\right)} \\right)} \\frac{d}{d t} \\phi{\\left(t \\right)} & 0 & \\sin{\\left(\\alpha_{R}{\\left(t \\right)} \\right)} \\frac{d}{d t} \\phi{\\left(t \\right)}\\\\- \\frac{d}{d t} \\alpha_{R}{\\left(t \\right)} & - \\sin{\\left(\\alpha_{R}{\\left(t \\right)} \\right)} \\frac{d}{d t} \\phi{\\left(t \\right)} & 0\\end{matrix}\\right]$"
          },
          "metadata": {}
        },
        {
          "output_type": "display_data",
          "data": {
            "text/plain": [
              "'w2_0: '"
            ],
            "application/vnd.google.colaboratory.intrinsic+json": {
              "type": "string"
            }
          },
          "metadata": {}
        },
        {
          "output_type": "display_data",
          "data": {
            "text/plain": [
              "Matrix([\n",
              "[-sin(alpha_R(t))*Derivative(phi(t), t)],\n",
              "[             Derivative(alpha_R(t), t)],\n",
              "[ cos(alpha_R(t))*Derivative(phi(t), t)]])"
            ],
            "text/latex": "$\\displaystyle \\left[\\begin{matrix}- \\sin{\\left(\\alpha_{R}{\\left(t \\right)} \\right)} \\frac{d}{d t} \\phi{\\left(t \\right)}\\\\\\frac{d}{d t} \\alpha_{R}{\\left(t \\right)}\\\\\\cos{\\left(\\alpha_{R}{\\left(t \\right)} \\right)} \\frac{d}{d t} \\phi{\\left(t \\right)}\\end{matrix}\\right]$"
          },
          "metadata": {}
        },
        {
          "output_type": "stream",
          "name": "stdout",
          "text": [
            "-----------------------------------------\n"
          ]
        },
        {
          "output_type": "display_data",
          "data": {
            "text/plain": [
              "'R3_0: '"
            ],
            "application/vnd.google.colaboratory.intrinsic+json": {
              "type": "string"
            }
          },
          "metadata": {}
        },
        {
          "output_type": "display_data",
          "data": {
            "text/plain": [
              "Matrix([\n",
              "[cos(alpha_L(t))*cos(phi(t)), -sin(phi(t)), sin(alpha_L(t))*cos(phi(t))],\n",
              "[sin(phi(t))*cos(alpha_L(t)),  cos(phi(t)), sin(alpha_L(t))*sin(phi(t))],\n",
              "[           -sin(alpha_L(t)),            0,             cos(alpha_L(t))]])"
            ],
            "text/latex": "$\\displaystyle \\left[\\begin{matrix}\\cos{\\left(\\alpha_{L}{\\left(t \\right)} \\right)} \\cos{\\left(\\phi{\\left(t \\right)} \\right)} & - \\sin{\\left(\\phi{\\left(t \\right)} \\right)} & \\sin{\\left(\\alpha_{L}{\\left(t \\right)} \\right)} \\cos{\\left(\\phi{\\left(t \\right)} \\right)}\\\\\\sin{\\left(\\phi{\\left(t \\right)} \\right)} \\cos{\\left(\\alpha_{L}{\\left(t \\right)} \\right)} & \\cos{\\left(\\phi{\\left(t \\right)} \\right)} & \\sin{\\left(\\alpha_{L}{\\left(t \\right)} \\right)} \\sin{\\left(\\phi{\\left(t \\right)} \\right)}\\\\- \\sin{\\left(\\alpha_{L}{\\left(t \\right)} \\right)} & 0 & \\cos{\\left(\\alpha_{L}{\\left(t \\right)} \\right)}\\end{matrix}\\right]$"
          },
          "metadata": {}
        },
        {
          "output_type": "display_data",
          "data": {
            "text/plain": [
              "'R3_0_dot: '"
            ],
            "application/vnd.google.colaboratory.intrinsic+json": {
              "type": "string"
            }
          },
          "metadata": {}
        },
        {
          "output_type": "display_data",
          "data": {
            "text/plain": [
              "Matrix([\n",
              "[-sin(alpha_L(t))*cos(phi(t))*Derivative(alpha_L(t), t) - sin(phi(t))*cos(alpha_L(t))*Derivative(phi(t), t), -cos(phi(t))*Derivative(phi(t), t), -sin(alpha_L(t))*sin(phi(t))*Derivative(phi(t), t) + cos(alpha_L(t))*cos(phi(t))*Derivative(alpha_L(t), t)],\n",
              "[-sin(alpha_L(t))*sin(phi(t))*Derivative(alpha_L(t), t) + cos(alpha_L(t))*cos(phi(t))*Derivative(phi(t), t), -sin(phi(t))*Derivative(phi(t), t),  sin(alpha_L(t))*cos(phi(t))*Derivative(phi(t), t) + sin(phi(t))*cos(alpha_L(t))*Derivative(alpha_L(t), t)],\n",
              "[                                                                -cos(alpha_L(t))*Derivative(alpha_L(t), t),                                  0,                                                                 -sin(alpha_L(t))*Derivative(alpha_L(t), t)]])"
            ],
            "text/latex": "$\\displaystyle \\left[\\begin{matrix}- \\sin{\\left(\\alpha_{L}{\\left(t \\right)} \\right)} \\cos{\\left(\\phi{\\left(t \\right)} \\right)} \\frac{d}{d t} \\alpha_{L}{\\left(t \\right)} - \\sin{\\left(\\phi{\\left(t \\right)} \\right)} \\cos{\\left(\\alpha_{L}{\\left(t \\right)} \\right)} \\frac{d}{d t} \\phi{\\left(t \\right)} & - \\cos{\\left(\\phi{\\left(t \\right)} \\right)} \\frac{d}{d t} \\phi{\\left(t \\right)} & - \\sin{\\left(\\alpha_{L}{\\left(t \\right)} \\right)} \\sin{\\left(\\phi{\\left(t \\right)} \\right)} \\frac{d}{d t} \\phi{\\left(t \\right)} + \\cos{\\left(\\alpha_{L}{\\left(t \\right)} \\right)} \\cos{\\left(\\phi{\\left(t \\right)} \\right)} \\frac{d}{d t} \\alpha_{L}{\\left(t \\right)}\\\\- \\sin{\\left(\\alpha_{L}{\\left(t \\right)} \\right)} \\sin{\\left(\\phi{\\left(t \\right)} \\right)} \\frac{d}{d t} \\alpha_{L}{\\left(t \\right)} + \\cos{\\left(\\alpha_{L}{\\left(t \\right)} \\right)} \\cos{\\left(\\phi{\\left(t \\right)} \\right)} \\frac{d}{d t} \\phi{\\left(t \\right)} & - \\sin{\\left(\\phi{\\left(t \\right)} \\right)} \\frac{d}{d t} \\phi{\\left(t \\right)} & \\sin{\\left(\\alpha_{L}{\\left(t \\right)} \\right)} \\cos{\\left(\\phi{\\left(t \\right)} \\right)} \\frac{d}{d t} \\phi{\\left(t \\right)} + \\sin{\\left(\\phi{\\left(t \\right)} \\right)} \\cos{\\left(\\alpha_{L}{\\left(t \\right)} \\right)} \\frac{d}{d t} \\alpha_{L}{\\left(t \\right)}\\\\- \\cos{\\left(\\alpha_{L}{\\left(t \\right)} \\right)} \\frac{d}{d t} \\alpha_{L}{\\left(t \\right)} & 0 & - \\sin{\\left(\\alpha_{L}{\\left(t \\right)} \\right)} \\frac{d}{d t} \\alpha_{L}{\\left(t \\right)}\\end{matrix}\\right]$"
          },
          "metadata": {}
        },
        {
          "output_type": "display_data",
          "data": {
            "text/plain": [
              "'Sw3_0: '"
            ],
            "application/vnd.google.colaboratory.intrinsic+json": {
              "type": "string"
            }
          },
          "metadata": {}
        },
        {
          "output_type": "display_data",
          "data": {
            "text/plain": [
              "Matrix([\n",
              "[                                    0, -cos(alpha_L(t))*Derivative(phi(t), t),             Derivative(alpha_L(t), t)],\n",
              "[cos(alpha_L(t))*Derivative(phi(t), t),                                      0, sin(alpha_L(t))*Derivative(phi(t), t)],\n",
              "[           -Derivative(alpha_L(t), t), -sin(alpha_L(t))*Derivative(phi(t), t),                                     0]])"
            ],
            "text/latex": "$\\displaystyle \\left[\\begin{matrix}0 & - \\cos{\\left(\\alpha_{L}{\\left(t \\right)} \\right)} \\frac{d}{d t} \\phi{\\left(t \\right)} & \\frac{d}{d t} \\alpha_{L}{\\left(t \\right)}\\\\\\cos{\\left(\\alpha_{L}{\\left(t \\right)} \\right)} \\frac{d}{d t} \\phi{\\left(t \\right)} & 0 & \\sin{\\left(\\alpha_{L}{\\left(t \\right)} \\right)} \\frac{d}{d t} \\phi{\\left(t \\right)}\\\\- \\frac{d}{d t} \\alpha_{L}{\\left(t \\right)} & - \\sin{\\left(\\alpha_{L}{\\left(t \\right)} \\right)} \\frac{d}{d t} \\phi{\\left(t \\right)} & 0\\end{matrix}\\right]$"
          },
          "metadata": {}
        },
        {
          "output_type": "display_data",
          "data": {
            "text/plain": [
              "'w3_0: '"
            ],
            "application/vnd.google.colaboratory.intrinsic+json": {
              "type": "string"
            }
          },
          "metadata": {}
        },
        {
          "output_type": "display_data",
          "data": {
            "text/plain": [
              "Matrix([\n",
              "[-sin(alpha_L(t))*Derivative(phi(t), t)],\n",
              "[             Derivative(alpha_L(t), t)],\n",
              "[ cos(alpha_L(t))*Derivative(phi(t), t)]])"
            ],
            "text/latex": "$\\displaystyle \\left[\\begin{matrix}- \\sin{\\left(\\alpha_{L}{\\left(t \\right)} \\right)} \\frac{d}{d t} \\phi{\\left(t \\right)}\\\\\\frac{d}{d t} \\alpha_{L}{\\left(t \\right)}\\\\\\cos{\\left(\\alpha_{L}{\\left(t \\right)} \\right)} \\frac{d}{d t} \\phi{\\left(t \\right)}\\end{matrix}\\right]$"
          },
          "metadata": {}
        },
        {
          "output_type": "stream",
          "name": "stdout",
          "text": [
            "-----------------------------------------\n"
          ]
        }
      ]
    },
    {
      "cell_type": "code",
      "source": [
        "#--------------- Kinematic Maps ---------------\n",
        "#Frame1\n",
        "#P1_0 = sp.Matrix([p_c(t)*sp.cos(phi(t)), p_c(t)*sp.sin(phi(t)), 0])  #CONFERIR\n",
        "P1_0 = sp.Matrix([x_c(t), y_c(t), 0]) #CONFERIR\n",
        "\n",
        "P1_0_dot = sp.simplify(sp.diff(P1_0, t))\n",
        "display('P1_0: ', P1_0)\n",
        "display('P1_0_dot: ', P1_0_dot)\n",
        "print('-----------------------------------------')\n",
        "# ........................\n",
        "#Frame4\n",
        "P4_1 = sp.Matrix([l*sp.sin(theta(t)), 0, l*sp.cos(theta(t))])\n",
        "P4_0 = P1_0 + R1_0*P4_1\n",
        "P4_0_dot = sp.simplify(sp.diff(P4_0, t))\n",
        "display('P4_0: ', P4_0)\n",
        "display('P4_0_dot: ', P4_0_dot)\n",
        "print('-----------------------------------------')\n",
        "# ........................\n",
        "#Frame2\n",
        "P2_1 = sp.Matrix([0, -0.5*d, 0])\n",
        "P2_0 = P1_0 + R1_0*P2_1\n",
        "P2_0_dot = sp.simplify(sp.diff(P2_0, t))\n",
        "display('P2_0: ', P2_0)\n",
        "display('P2_0_dot: ', P2_0_dot)\n",
        "print('-----------------------------------------')\n",
        "# ........................\n",
        "#Frame3\n",
        "P3_1 = sp.Matrix([0, 0.5*d, 0])\n",
        "P3_0 = P1_0 + R1_0*P3_1\n",
        "P3_0_dot = sp.simplify(sp.diff(P3_0, t))\n",
        "display('P3_0: ', P3_0)\n",
        "display('P3_0_dot: ', P3_0_dot)\n",
        "print('-----------------------------------------')\n",
        "# ........................\n",
        "\n",
        "#------------------------------------------------"
      ],
      "metadata": {
        "colab": {
          "base_uri": "https://localhost:8080/",
          "height": 727
        },
        "id": "Qk6_Sw4mAL-3",
        "outputId": "cc874d5c-4625-4cc3-df96-856029967a57"
      },
      "execution_count": 16,
      "outputs": [
        {
          "output_type": "display_data",
          "data": {
            "text/plain": [
              "'P1_0: '"
            ],
            "application/vnd.google.colaboratory.intrinsic+json": {
              "type": "string"
            }
          },
          "metadata": {}
        },
        {
          "output_type": "display_data",
          "data": {
            "text/plain": [
              "Matrix([\n",
              "[x_c(t)],\n",
              "[y_c(t)],\n",
              "[     0]])"
            ],
            "text/latex": "$\\displaystyle \\left[\\begin{matrix}x_{c}{\\left(t \\right)}\\\\y_{c}{\\left(t \\right)}\\\\0\\end{matrix}\\right]$"
          },
          "metadata": {}
        },
        {
          "output_type": "display_data",
          "data": {
            "text/plain": [
              "'P1_0_dot: '"
            ],
            "application/vnd.google.colaboratory.intrinsic+json": {
              "type": "string"
            }
          },
          "metadata": {}
        },
        {
          "output_type": "display_data",
          "data": {
            "text/plain": [
              "Matrix([\n",
              "[Derivative(x_c(t), t)],\n",
              "[Derivative(y_c(t), t)],\n",
              "[                    0]])"
            ],
            "text/latex": "$\\displaystyle \\left[\\begin{matrix}\\frac{d}{d t} x_{c}{\\left(t \\right)}\\\\\\frac{d}{d t} y_{c}{\\left(t \\right)}\\\\0\\end{matrix}\\right]$"
          },
          "metadata": {}
        },
        {
          "output_type": "stream",
          "name": "stdout",
          "text": [
            "-----------------------------------------\n"
          ]
        },
        {
          "output_type": "display_data",
          "data": {
            "text/plain": [
              "'P4_0: '"
            ],
            "application/vnd.google.colaboratory.intrinsic+json": {
              "type": "string"
            }
          },
          "metadata": {}
        },
        {
          "output_type": "display_data",
          "data": {
            "text/plain": [
              "Matrix([\n",
              "[l*sin(theta(t))*cos(phi(t)) + x_c(t)],\n",
              "[l*sin(phi(t))*sin(theta(t)) + y_c(t)],\n",
              "[                     l*cos(theta(t))]])"
            ],
            "text/latex": "$\\displaystyle \\left[\\begin{matrix}l \\sin{\\left(\\theta{\\left(t \\right)} \\right)} \\cos{\\left(\\phi{\\left(t \\right)} \\right)} + x_{c}{\\left(t \\right)}\\\\l \\sin{\\left(\\phi{\\left(t \\right)} \\right)} \\sin{\\left(\\theta{\\left(t \\right)} \\right)} + y_{c}{\\left(t \\right)}\\\\l \\cos{\\left(\\theta{\\left(t \\right)} \\right)}\\end{matrix}\\right]$"
          },
          "metadata": {}
        },
        {
          "output_type": "display_data",
          "data": {
            "text/plain": [
              "'P4_0_dot: '"
            ],
            "application/vnd.google.colaboratory.intrinsic+json": {
              "type": "string"
            }
          },
          "metadata": {}
        },
        {
          "output_type": "display_data",
          "data": {
            "text/plain": [
              "Matrix([\n",
              "[-l*sin(phi(t))*sin(theta(t))*Derivative(phi(t), t) + l*cos(phi(t))*cos(theta(t))*Derivative(theta(t), t) + Derivative(x_c(t), t)],\n",
              "[ l*sin(phi(t))*cos(theta(t))*Derivative(theta(t), t) + l*sin(theta(t))*cos(phi(t))*Derivative(phi(t), t) + Derivative(y_c(t), t)],\n",
              "[                                                                                        -l*sin(theta(t))*Derivative(theta(t), t)]])"
            ],
            "text/latex": "$\\displaystyle \\left[\\begin{matrix}- l \\sin{\\left(\\phi{\\left(t \\right)} \\right)} \\sin{\\left(\\theta{\\left(t \\right)} \\right)} \\frac{d}{d t} \\phi{\\left(t \\right)} + l \\cos{\\left(\\phi{\\left(t \\right)} \\right)} \\cos{\\left(\\theta{\\left(t \\right)} \\right)} \\frac{d}{d t} \\theta{\\left(t \\right)} + \\frac{d}{d t} x_{c}{\\left(t \\right)}\\\\l \\sin{\\left(\\phi{\\left(t \\right)} \\right)} \\cos{\\left(\\theta{\\left(t \\right)} \\right)} \\frac{d}{d t} \\theta{\\left(t \\right)} + l \\sin{\\left(\\theta{\\left(t \\right)} \\right)} \\cos{\\left(\\phi{\\left(t \\right)} \\right)} \\frac{d}{d t} \\phi{\\left(t \\right)} + \\frac{d}{d t} y_{c}{\\left(t \\right)}\\\\- l \\sin{\\left(\\theta{\\left(t \\right)} \\right)} \\frac{d}{d t} \\theta{\\left(t \\right)}\\end{matrix}\\right]$"
          },
          "metadata": {}
        },
        {
          "output_type": "stream",
          "name": "stdout",
          "text": [
            "-----------------------------------------\n"
          ]
        },
        {
          "output_type": "display_data",
          "data": {
            "text/plain": [
              "'P2_0: '"
            ],
            "application/vnd.google.colaboratory.intrinsic+json": {
              "type": "string"
            }
          },
          "metadata": {}
        },
        {
          "output_type": "display_data",
          "data": {
            "text/plain": [
              "Matrix([\n",
              "[ 0.5*d*sin(phi(t)) + x_c(t)],\n",
              "[-0.5*d*cos(phi(t)) + y_c(t)],\n",
              "[                          0]])"
            ],
            "text/latex": "$\\displaystyle \\left[\\begin{matrix}0.5 d \\sin{\\left(\\phi{\\left(t \\right)} \\right)} + x_{c}{\\left(t \\right)}\\\\- 0.5 d \\cos{\\left(\\phi{\\left(t \\right)} \\right)} + y_{c}{\\left(t \\right)}\\\\0\\end{matrix}\\right]$"
          },
          "metadata": {}
        },
        {
          "output_type": "display_data",
          "data": {
            "text/plain": [
              "'P2_0_dot: '"
            ],
            "application/vnd.google.colaboratory.intrinsic+json": {
              "type": "string"
            }
          },
          "metadata": {}
        },
        {
          "output_type": "display_data",
          "data": {
            "text/plain": [
              "Matrix([\n",
              "[0.5*d*cos(phi(t))*Derivative(phi(t), t) + Derivative(x_c(t), t)],\n",
              "[0.5*d*sin(phi(t))*Derivative(phi(t), t) + Derivative(y_c(t), t)],\n",
              "[                                                              0]])"
            ],
            "text/latex": "$\\displaystyle \\left[\\begin{matrix}0.5 d \\cos{\\left(\\phi{\\left(t \\right)} \\right)} \\frac{d}{d t} \\phi{\\left(t \\right)} + \\frac{d}{d t} x_{c}{\\left(t \\right)}\\\\0.5 d \\sin{\\left(\\phi{\\left(t \\right)} \\right)} \\frac{d}{d t} \\phi{\\left(t \\right)} + \\frac{d}{d t} y_{c}{\\left(t \\right)}\\\\0\\end{matrix}\\right]$"
          },
          "metadata": {}
        },
        {
          "output_type": "stream",
          "name": "stdout",
          "text": [
            "-----------------------------------------\n"
          ]
        },
        {
          "output_type": "display_data",
          "data": {
            "text/plain": [
              "'P3_0: '"
            ],
            "application/vnd.google.colaboratory.intrinsic+json": {
              "type": "string"
            }
          },
          "metadata": {}
        },
        {
          "output_type": "display_data",
          "data": {
            "text/plain": [
              "Matrix([\n",
              "[-0.5*d*sin(phi(t)) + x_c(t)],\n",
              "[ 0.5*d*cos(phi(t)) + y_c(t)],\n",
              "[                          0]])"
            ],
            "text/latex": "$\\displaystyle \\left[\\begin{matrix}- 0.5 d \\sin{\\left(\\phi{\\left(t \\right)} \\right)} + x_{c}{\\left(t \\right)}\\\\0.5 d \\cos{\\left(\\phi{\\left(t \\right)} \\right)} + y_{c}{\\left(t \\right)}\\\\0\\end{matrix}\\right]$"
          },
          "metadata": {}
        },
        {
          "output_type": "display_data",
          "data": {
            "text/plain": [
              "'P3_0_dot: '"
            ],
            "application/vnd.google.colaboratory.intrinsic+json": {
              "type": "string"
            }
          },
          "metadata": {}
        },
        {
          "output_type": "display_data",
          "data": {
            "text/plain": [
              "Matrix([\n",
              "[-0.5*d*cos(phi(t))*Derivative(phi(t), t) + Derivative(x_c(t), t)],\n",
              "[-0.5*d*sin(phi(t))*Derivative(phi(t), t) + Derivative(y_c(t), t)],\n",
              "[                                                               0]])"
            ],
            "text/latex": "$\\displaystyle \\left[\\begin{matrix}- 0.5 d \\cos{\\left(\\phi{\\left(t \\right)} \\right)} \\frac{d}{d t} \\phi{\\left(t \\right)} + \\frac{d}{d t} x_{c}{\\left(t \\right)}\\\\- 0.5 d \\sin{\\left(\\phi{\\left(t \\right)} \\right)} \\frac{d}{d t} \\phi{\\left(t \\right)} + \\frac{d}{d t} y_{c}{\\left(t \\right)}\\\\0\\end{matrix}\\right]$"
          },
          "metadata": {}
        },
        {
          "output_type": "stream",
          "name": "stdout",
          "text": [
            "-----------------------------------------\n"
          ]
        }
      ]
    },
    {
      "cell_type": "code",
      "source": [
        "#--------------- Total Kinetic Energy (K) ---------------\n",
        "K_trans = 0.5*m_w*sp.transpose(P2_0_dot)*P2_0_dot + 0.5*m_w*sp.transpose(P3_0_dot)*P3_0_dot + 0.5*m_b*sp.transpose(P4_0_dot)*P4_0_dot\n",
        "K_trans =  sp.simplify(K_trans[0])\n",
        "\n",
        "K_rot = 0.5*sp.transpose(w2_0)*I_w*w2_0 + 0.5*sp.transpose(w3_0)*I_w*w3_0 + 0.5*sp.transpose(w4_0)*I_b*w4_0\n",
        "K_rot = sp.simplify(K_rot[0])\n",
        "\n",
        "K =  K_trans+K_rot\n",
        "#------------------------------------------------\n",
        "\n",
        "#--------------- Total Potential Energy (K) ---------------\n",
        "V = m_b*g*l*sp.cos(theta(t))\n",
        "#------------------------------------------------\n",
        "\n",
        "#--------------- Lagrangian (L) ---------------\n",
        "L = K - V\n",
        "display(sp.simplify(L))\n",
        "#------------------------------------------------\n",
        "\n",
        "#--------------- Exernal Torques (L) ---------------\n",
        "tau_R = sp.Symbol('tau_R', real=True)\n",
        "tau_L = sp.Symbol('tau_L', real=True)\n",
        "Q = sp.Matrix([[0],\\\n",
        "                 [0],\\\n",
        "                 [0],\\\n",
        "                 [-tau_L-tau_R],\\\n",
        "                 [tau_R],\\\n",
        "                 [tau_L]\n",
        "                 ])\n",
        "#------------------------------------------------\n",
        "\n",
        "\n",
        "#--------------- Euler_Lagrange Equation of Motion (E_L) ---------------\n",
        "dL_dq_dot = sp.simplify(sp.diff(L, q_dot))\n",
        "E_L = sp.simplify(sp.diff(dL_dq_dot,t) - sp.diff(L, q))\n",
        "display(E_L)\n"
      ],
      "metadata": {
        "colab": {
          "base_uri": "https://localhost:8080/",
          "height": 348
        },
        "id": "wWCLBwbPNjcO",
        "outputId": "6cdbc18d-6709-4313-ca52-f39ac41b32ac"
      },
      "execution_count": 17,
      "outputs": [
        {
          "output_type": "display_data",
          "data": {
            "text/plain": [
              "0.5*Ib1*sin(theta(t))**2*Derivative(phi(t), t)**2 + 0.5*Ib2*Derivative(theta(t), t)**2 - 0.5*Ib3*sin(theta(t))**2*Derivative(phi(t), t)**2 + 0.5*Ib3*Derivative(phi(t), t)**2 + 0.5*J*Derivative(alpha_L(t), t)**2 + 0.5*J*Derivative(alpha_R(t), t)**2 + 1.0*K*Derivative(phi(t), t)**2 + 0.25*d**2*m_w*Derivative(phi(t), t)**2 - g*l*m_b*cos(theta(t)) + 0.5*l**2*m_b*sin(theta(t))**2*Derivative(phi(t), t)**2 + 0.5*l**2*m_b*Derivative(theta(t), t)**2 - 1.0*l*m_b*sin(phi(t))*sin(theta(t))*Derivative(phi(t), t)*Derivative(x_c(t), t) + 1.0*l*m_b*sin(phi(t))*cos(theta(t))*Derivative(theta(t), t)*Derivative(y_c(t), t) + 1.0*l*m_b*sin(theta(t))*cos(phi(t))*Derivative(phi(t), t)*Derivative(y_c(t), t) + 1.0*l*m_b*cos(phi(t))*cos(theta(t))*Derivative(theta(t), t)*Derivative(x_c(t), t) + 0.5*m_b*Derivative(x_c(t), t)**2 + 0.5*m_b*Derivative(y_c(t), t)**2 + 1.0*m_w*Derivative(x_c(t), t)**2 + 1.0*m_w*Derivative(y_c(t), t)**2"
            ],
            "text/latex": "$\\displaystyle 0.5 Ib_{1} \\sin^{2}{\\left(\\theta{\\left(t \\right)} \\right)} \\left(\\frac{d}{d t} \\phi{\\left(t \\right)}\\right)^{2} + 0.5 Ib_{2} \\left(\\frac{d}{d t} \\theta{\\left(t \\right)}\\right)^{2} - 0.5 Ib_{3} \\sin^{2}{\\left(\\theta{\\left(t \\right)} \\right)} \\left(\\frac{d}{d t} \\phi{\\left(t \\right)}\\right)^{2} + 0.5 Ib_{3} \\left(\\frac{d}{d t} \\phi{\\left(t \\right)}\\right)^{2} + 0.5 J \\left(\\frac{d}{d t} \\alpha_{L}{\\left(t \\right)}\\right)^{2} + 0.5 J \\left(\\frac{d}{d t} \\alpha_{R}{\\left(t \\right)}\\right)^{2} + 1.0 K \\left(\\frac{d}{d t} \\phi{\\left(t \\right)}\\right)^{2} + 0.25 d^{2} m_{w} \\left(\\frac{d}{d t} \\phi{\\left(t \\right)}\\right)^{2} - g l m_{b} \\cos{\\left(\\theta{\\left(t \\right)} \\right)} + 0.5 l^{2} m_{b} \\sin^{2}{\\left(\\theta{\\left(t \\right)} \\right)} \\left(\\frac{d}{d t} \\phi{\\left(t \\right)}\\right)^{2} + 0.5 l^{2} m_{b} \\left(\\frac{d}{d t} \\theta{\\left(t \\right)}\\right)^{2} - 1.0 l m_{b} \\sin{\\left(\\phi{\\left(t \\right)} \\right)} \\sin{\\left(\\theta{\\left(t \\right)} \\right)} \\frac{d}{d t} \\phi{\\left(t \\right)} \\frac{d}{d t} x_{c}{\\left(t \\right)} + 1.0 l m_{b} \\sin{\\left(\\phi{\\left(t \\right)} \\right)} \\cos{\\left(\\theta{\\left(t \\right)} \\right)} \\frac{d}{d t} \\theta{\\left(t \\right)} \\frac{d}{d t} y_{c}{\\left(t \\right)} + 1.0 l m_{b} \\sin{\\left(\\theta{\\left(t \\right)} \\right)} \\cos{\\left(\\phi{\\left(t \\right)} \\right)} \\frac{d}{d t} \\phi{\\left(t \\right)} \\frac{d}{d t} y_{c}{\\left(t \\right)} + 1.0 l m_{b} \\cos{\\left(\\phi{\\left(t \\right)} \\right)} \\cos{\\left(\\theta{\\left(t \\right)} \\right)} \\frac{d}{d t} \\theta{\\left(t \\right)} \\frac{d}{d t} x_{c}{\\left(t \\right)} + 0.5 m_{b} \\left(\\frac{d}{d t} x_{c}{\\left(t \\right)}\\right)^{2} + 0.5 m_{b} \\left(\\frac{d}{d t} y_{c}{\\left(t \\right)}\\right)^{2} + 1.0 m_{w} \\left(\\frac{d}{d t} x_{c}{\\left(t \\right)}\\right)^{2} + 1.0 m_{w} \\left(\\frac{d}{d t} y_{c}{\\left(t \\right)}\\right)^{2}$"
          },
          "metadata": {}
        },
        {
          "output_type": "display_data",
          "data": {
            "text/plain": [
              "Matrix([\n",
              "[                                                                                                                                                                                                                     -1.0*l*m_b*sin(phi(t))*sin(theta(t))*Derivative(phi(t), (t, 2)) - 2.0*l*m_b*sin(phi(t))*cos(theta(t))*Derivative(phi(t), t)*Derivative(theta(t), t) - 1.0*l*m_b*sin(theta(t))*cos(phi(t))*Derivative(phi(t), t)**2 - 1.0*l*m_b*sin(theta(t))*cos(phi(t))*Derivative(theta(t), t)**2 + 1.0*l*m_b*cos(phi(t))*cos(theta(t))*Derivative(theta(t), (t, 2)) + 1.0*m_b*Derivative(x_c(t), (t, 2)) + 2.0*m_w*Derivative(x_c(t), (t, 2))],\n",
              "[                                                                                                                                                                                                                     -1.0*l*m_b*sin(phi(t))*sin(theta(t))*Derivative(phi(t), t)**2 - 1.0*l*m_b*sin(phi(t))*sin(theta(t))*Derivative(theta(t), t)**2 + 1.0*l*m_b*sin(phi(t))*cos(theta(t))*Derivative(theta(t), (t, 2)) + 1.0*l*m_b*sin(theta(t))*cos(phi(t))*Derivative(phi(t), (t, 2)) + 2.0*l*m_b*cos(phi(t))*cos(theta(t))*Derivative(phi(t), t)*Derivative(theta(t), t) + 1.0*m_b*Derivative(y_c(t), (t, 2)) + 2.0*m_w*Derivative(y_c(t), (t, 2))],\n",
              "[1.0*Ib1*sin(theta(t))**2*Derivative(phi(t), (t, 2)) + 1.0*Ib1*sin(2*theta(t))*Derivative(phi(t), t)*Derivative(theta(t), t) - 1.0*Ib3*sin(theta(t))**2*Derivative(phi(t), (t, 2)) - 1.0*Ib3*sin(2*theta(t))*Derivative(phi(t), t)*Derivative(theta(t), t) + 1.0*Ib3*Derivative(phi(t), (t, 2)) + 2.0*K*Derivative(phi(t), (t, 2)) + 0.5*d**2*m_w*Derivative(phi(t), (t, 2)) + 1.0*l**2*m_b*sin(theta(t))**2*Derivative(phi(t), (t, 2)) + 1.0*l**2*m_b*sin(2*theta(t))*Derivative(phi(t), t)*Derivative(theta(t), t) - 1.0*l*m_b*sin(phi(t))*sin(theta(t))*Derivative(x_c(t), (t, 2)) + 1.0*l*m_b*sin(theta(t))*cos(phi(t))*Derivative(y_c(t), (t, 2))],\n",
              "[                                                                                                                                                                                                                                        -0.5*Ib1*sin(2*theta(t))*Derivative(phi(t), t)**2 + 1.0*Ib2*Derivative(theta(t), (t, 2)) + 0.5*Ib3*sin(2*theta(t))*Derivative(phi(t), t)**2 - 1.0*g*l*m_b*sin(theta(t)) - 0.5*l**2*m_b*sin(2*theta(t))*Derivative(phi(t), t)**2 + 1.0*l**2*m_b*Derivative(theta(t), (t, 2)) + 1.0*l*m_b*sin(phi(t))*cos(theta(t))*Derivative(y_c(t), (t, 2)) + 1.0*l*m_b*cos(phi(t))*cos(theta(t))*Derivative(x_c(t), (t, 2))],\n",
              "[                                                                                                                                                                                                                                                                                                                                                                                                                                                                                                                                                                                                                 1.0*J*Derivative(alpha_R(t), (t, 2))],\n",
              "[                                                                                                                                                                                                                                                                                                                                                                                                                                                                                                                                                                                                                 1.0*J*Derivative(alpha_L(t), (t, 2))]])"
            ],
            "text/latex": "$\\displaystyle \\left[\\begin{matrix}- 1.0 l m_{b} \\sin{\\left(\\phi{\\left(t \\right)} \\right)} \\sin{\\left(\\theta{\\left(t \\right)} \\right)} \\frac{d^{2}}{d t^{2}} \\phi{\\left(t \\right)} - 2.0 l m_{b} \\sin{\\left(\\phi{\\left(t \\right)} \\right)} \\cos{\\left(\\theta{\\left(t \\right)} \\right)} \\frac{d}{d t} \\phi{\\left(t \\right)} \\frac{d}{d t} \\theta{\\left(t \\right)} - 1.0 l m_{b} \\sin{\\left(\\theta{\\left(t \\right)} \\right)} \\cos{\\left(\\phi{\\left(t \\right)} \\right)} \\left(\\frac{d}{d t} \\phi{\\left(t \\right)}\\right)^{2} - 1.0 l m_{b} \\sin{\\left(\\theta{\\left(t \\right)} \\right)} \\cos{\\left(\\phi{\\left(t \\right)} \\right)} \\left(\\frac{d}{d t} \\theta{\\left(t \\right)}\\right)^{2} + 1.0 l m_{b} \\cos{\\left(\\phi{\\left(t \\right)} \\right)} \\cos{\\left(\\theta{\\left(t \\right)} \\right)} \\frac{d^{2}}{d t^{2}} \\theta{\\left(t \\right)} + 1.0 m_{b} \\frac{d^{2}}{d t^{2}} x_{c}{\\left(t \\right)} + 2.0 m_{w} \\frac{d^{2}}{d t^{2}} x_{c}{\\left(t \\right)}\\\\- 1.0 l m_{b} \\sin{\\left(\\phi{\\left(t \\right)} \\right)} \\sin{\\left(\\theta{\\left(t \\right)} \\right)} \\left(\\frac{d}{d t} \\phi{\\left(t \\right)}\\right)^{2} - 1.0 l m_{b} \\sin{\\left(\\phi{\\left(t \\right)} \\right)} \\sin{\\left(\\theta{\\left(t \\right)} \\right)} \\left(\\frac{d}{d t} \\theta{\\left(t \\right)}\\right)^{2} + 1.0 l m_{b} \\sin{\\left(\\phi{\\left(t \\right)} \\right)} \\cos{\\left(\\theta{\\left(t \\right)} \\right)} \\frac{d^{2}}{d t^{2}} \\theta{\\left(t \\right)} + 1.0 l m_{b} \\sin{\\left(\\theta{\\left(t \\right)} \\right)} \\cos{\\left(\\phi{\\left(t \\right)} \\right)} \\frac{d^{2}}{d t^{2}} \\phi{\\left(t \\right)} + 2.0 l m_{b} \\cos{\\left(\\phi{\\left(t \\right)} \\right)} \\cos{\\left(\\theta{\\left(t \\right)} \\right)} \\frac{d}{d t} \\phi{\\left(t \\right)} \\frac{d}{d t} \\theta{\\left(t \\right)} + 1.0 m_{b} \\frac{d^{2}}{d t^{2}} y_{c}{\\left(t \\right)} + 2.0 m_{w} \\frac{d^{2}}{d t^{2}} y_{c}{\\left(t \\right)}\\\\1.0 Ib_{1} \\sin^{2}{\\left(\\theta{\\left(t \\right)} \\right)} \\frac{d^{2}}{d t^{2}} \\phi{\\left(t \\right)} + 1.0 Ib_{1} \\sin{\\left(2 \\theta{\\left(t \\right)} \\right)} \\frac{d}{d t} \\phi{\\left(t \\right)} \\frac{d}{d t} \\theta{\\left(t \\right)} - 1.0 Ib_{3} \\sin^{2}{\\left(\\theta{\\left(t \\right)} \\right)} \\frac{d^{2}}{d t^{2}} \\phi{\\left(t \\right)} - 1.0 Ib_{3} \\sin{\\left(2 \\theta{\\left(t \\right)} \\right)} \\frac{d}{d t} \\phi{\\left(t \\right)} \\frac{d}{d t} \\theta{\\left(t \\right)} + 1.0 Ib_{3} \\frac{d^{2}}{d t^{2}} \\phi{\\left(t \\right)} + 2.0 K \\frac{d^{2}}{d t^{2}} \\phi{\\left(t \\right)} + 0.5 d^{2} m_{w} \\frac{d^{2}}{d t^{2}} \\phi{\\left(t \\right)} + 1.0 l^{2} m_{b} \\sin^{2}{\\left(\\theta{\\left(t \\right)} \\right)} \\frac{d^{2}}{d t^{2}} \\phi{\\left(t \\right)} + 1.0 l^{2} m_{b} \\sin{\\left(2 \\theta{\\left(t \\right)} \\right)} \\frac{d}{d t} \\phi{\\left(t \\right)} \\frac{d}{d t} \\theta{\\left(t \\right)} - 1.0 l m_{b} \\sin{\\left(\\phi{\\left(t \\right)} \\right)} \\sin{\\left(\\theta{\\left(t \\right)} \\right)} \\frac{d^{2}}{d t^{2}} x_{c}{\\left(t \\right)} + 1.0 l m_{b} \\sin{\\left(\\theta{\\left(t \\right)} \\right)} \\cos{\\left(\\phi{\\left(t \\right)} \\right)} \\frac{d^{2}}{d t^{2}} y_{c}{\\left(t \\right)}\\\\- 0.5 Ib_{1} \\sin{\\left(2 \\theta{\\left(t \\right)} \\right)} \\left(\\frac{d}{d t} \\phi{\\left(t \\right)}\\right)^{2} + 1.0 Ib_{2} \\frac{d^{2}}{d t^{2}} \\theta{\\left(t \\right)} + 0.5 Ib_{3} \\sin{\\left(2 \\theta{\\left(t \\right)} \\right)} \\left(\\frac{d}{d t} \\phi{\\left(t \\right)}\\right)^{2} - 1.0 g l m_{b} \\sin{\\left(\\theta{\\left(t \\right)} \\right)} - 0.5 l^{2} m_{b} \\sin{\\left(2 \\theta{\\left(t \\right)} \\right)} \\left(\\frac{d}{d t} \\phi{\\left(t \\right)}\\right)^{2} + 1.0 l^{2} m_{b} \\frac{d^{2}}{d t^{2}} \\theta{\\left(t \\right)} + 1.0 l m_{b} \\sin{\\left(\\phi{\\left(t \\right)} \\right)} \\cos{\\left(\\theta{\\left(t \\right)} \\right)} \\frac{d^{2}}{d t^{2}} y_{c}{\\left(t \\right)} + 1.0 l m_{b} \\cos{\\left(\\phi{\\left(t \\right)} \\right)} \\cos{\\left(\\theta{\\left(t \\right)} \\right)} \\frac{d^{2}}{d t^{2}} x_{c}{\\left(t \\right)}\\\\1.0 J \\frac{d^{2}}{d t^{2}} \\alpha_{R}{\\left(t \\right)}\\\\1.0 J \\frac{d^{2}}{d t^{2}} \\alpha_{L}{\\left(t \\right)}\\end{matrix}\\right]$"
          },
          "metadata": {}
        }
      ]
    },
    {
      "cell_type": "code",
      "source": [
        "print('-------------------------------------')\n",
        "print(\"Equation 1:\")\n",
        "display(sp.collect(sp.collect(E_L[0], l*sp.sin(theta(t))*sp.cos(phi(t))), m_b))\n",
        "print('-------------------------------------')\n",
        "print(\"Equation 2:\")\n",
        "display(sp.collect(sp.collect(E_L[1], l*sp.sin(theta(t))*sp.sin(phi(t))), m_b))\n",
        "print('-------------------------------------')\n",
        "print(\"Equation 3:\")\n",
        "display(sp.collect(E_L[2], [ sp.diff(sp.diff(theta(t),t),t), sp.diff(phi(t), t)*sp.diff(phi(t), t)*sp.sin(2*theta(t))]))\n",
        "print('-------------------------------------')\n",
        "print(\"Equation 4:\")\n",
        "display(sp.collect(E_L[3], [sp.diff(sp.diff(phi(t),t),t), m_b*l*sp.sin(theta(t))]))\n",
        "print('-------------------------------------')\n",
        "#------------------------------------------------"
      ],
      "metadata": {
        "colab": {
          "base_uri": "https://localhost:8080/",
          "height": 540
        },
        "id": "4WqVpFS9HFRY",
        "outputId": "e6a0ed26-faa9-4df3-de4a-d01d7bc8e1f0"
      },
      "execution_count": 18,
      "outputs": [
        {
          "output_type": "stream",
          "name": "stdout",
          "text": [
            "-------------------------------------\n",
            "Equation 1:\n"
          ]
        },
        {
          "output_type": "display_data",
          "data": {
            "text/plain": [
              "m_b*(l*(-1.0*Derivative(phi(t), t)**2 - 1.0*Derivative(theta(t), t)**2)*sin(theta(t))*cos(phi(t)) - 1.0*l*sin(phi(t))*sin(theta(t))*Derivative(phi(t), (t, 2)) - 2.0*l*sin(phi(t))*cos(theta(t))*Derivative(phi(t), t)*Derivative(theta(t), t) + 1.0*l*cos(phi(t))*cos(theta(t))*Derivative(theta(t), (t, 2)) + 1.0*Derivative(x_c(t), (t, 2))) + 2.0*m_w*Derivative(x_c(t), (t, 2))"
            ],
            "text/latex": "$\\displaystyle m_{b} \\left(l \\left(- 1.0 \\left(\\frac{d}{d t} \\phi{\\left(t \\right)}\\right)^{2} - 1.0 \\left(\\frac{d}{d t} \\theta{\\left(t \\right)}\\right)^{2}\\right) \\sin{\\left(\\theta{\\left(t \\right)} \\right)} \\cos{\\left(\\phi{\\left(t \\right)} \\right)} - 1.0 l \\sin{\\left(\\phi{\\left(t \\right)} \\right)} \\sin{\\left(\\theta{\\left(t \\right)} \\right)} \\frac{d^{2}}{d t^{2}} \\phi{\\left(t \\right)} - 2.0 l \\sin{\\left(\\phi{\\left(t \\right)} \\right)} \\cos{\\left(\\theta{\\left(t \\right)} \\right)} \\frac{d}{d t} \\phi{\\left(t \\right)} \\frac{d}{d t} \\theta{\\left(t \\right)} + 1.0 l \\cos{\\left(\\phi{\\left(t \\right)} \\right)} \\cos{\\left(\\theta{\\left(t \\right)} \\right)} \\frac{d^{2}}{d t^{2}} \\theta{\\left(t \\right)} + 1.0 \\frac{d^{2}}{d t^{2}} x_{c}{\\left(t \\right)}\\right) + 2.0 m_{w} \\frac{d^{2}}{d t^{2}} x_{c}{\\left(t \\right)}$"
          },
          "metadata": {}
        },
        {
          "output_type": "stream",
          "name": "stdout",
          "text": [
            "-------------------------------------\n",
            "Equation 2:\n"
          ]
        },
        {
          "output_type": "display_data",
          "data": {
            "text/plain": [
              "m_b*(l*(-1.0*Derivative(phi(t), t)**2 - 1.0*Derivative(theta(t), t)**2)*sin(phi(t))*sin(theta(t)) + 1.0*l*sin(phi(t))*cos(theta(t))*Derivative(theta(t), (t, 2)) + 1.0*l*sin(theta(t))*cos(phi(t))*Derivative(phi(t), (t, 2)) + 2.0*l*cos(phi(t))*cos(theta(t))*Derivative(phi(t), t)*Derivative(theta(t), t) + 1.0*Derivative(y_c(t), (t, 2))) + 2.0*m_w*Derivative(y_c(t), (t, 2))"
            ],
            "text/latex": "$\\displaystyle m_{b} \\left(l \\left(- 1.0 \\left(\\frac{d}{d t} \\phi{\\left(t \\right)}\\right)^{2} - 1.0 \\left(\\frac{d}{d t} \\theta{\\left(t \\right)}\\right)^{2}\\right) \\sin{\\left(\\phi{\\left(t \\right)} \\right)} \\sin{\\left(\\theta{\\left(t \\right)} \\right)} + 1.0 l \\sin{\\left(\\phi{\\left(t \\right)} \\right)} \\cos{\\left(\\theta{\\left(t \\right)} \\right)} \\frac{d^{2}}{d t^{2}} \\theta{\\left(t \\right)} + 1.0 l \\sin{\\left(\\theta{\\left(t \\right)} \\right)} \\cos{\\left(\\phi{\\left(t \\right)} \\right)} \\frac{d^{2}}{d t^{2}} \\phi{\\left(t \\right)} + 2.0 l \\cos{\\left(\\phi{\\left(t \\right)} \\right)} \\cos{\\left(\\theta{\\left(t \\right)} \\right)} \\frac{d}{d t} \\phi{\\left(t \\right)} \\frac{d}{d t} \\theta{\\left(t \\right)} + 1.0 \\frac{d^{2}}{d t^{2}} y_{c}{\\left(t \\right)}\\right) + 2.0 m_{w} \\frac{d^{2}}{d t^{2}} y_{c}{\\left(t \\right)}$"
          },
          "metadata": {}
        },
        {
          "output_type": "stream",
          "name": "stdout",
          "text": [
            "-------------------------------------\n",
            "Equation 3:\n"
          ]
        },
        {
          "output_type": "display_data",
          "data": {
            "text/plain": [
              "1.0*Ib1*sin(theta(t))**2*Derivative(phi(t), (t, 2)) + 1.0*Ib1*sin(2*theta(t))*Derivative(phi(t), t)*Derivative(theta(t), t) - 1.0*Ib3*sin(theta(t))**2*Derivative(phi(t), (t, 2)) - 1.0*Ib3*sin(2*theta(t))*Derivative(phi(t), t)*Derivative(theta(t), t) + 1.0*Ib3*Derivative(phi(t), (t, 2)) + 2.0*K*Derivative(phi(t), (t, 2)) + 0.5*d**2*m_w*Derivative(phi(t), (t, 2)) + 1.0*l**2*m_b*sin(theta(t))**2*Derivative(phi(t), (t, 2)) + 1.0*l**2*m_b*sin(2*theta(t))*Derivative(phi(t), t)*Derivative(theta(t), t) - 1.0*l*m_b*sin(phi(t))*sin(theta(t))*Derivative(x_c(t), (t, 2)) + 1.0*l*m_b*sin(theta(t))*cos(phi(t))*Derivative(y_c(t), (t, 2))"
            ],
            "text/latex": "$\\displaystyle 1.0 Ib_{1} \\sin^{2}{\\left(\\theta{\\left(t \\right)} \\right)} \\frac{d^{2}}{d t^{2}} \\phi{\\left(t \\right)} + 1.0 Ib_{1} \\sin{\\left(2 \\theta{\\left(t \\right)} \\right)} \\frac{d}{d t} \\phi{\\left(t \\right)} \\frac{d}{d t} \\theta{\\left(t \\right)} - 1.0 Ib_{3} \\sin^{2}{\\left(\\theta{\\left(t \\right)} \\right)} \\frac{d^{2}}{d t^{2}} \\phi{\\left(t \\right)} - 1.0 Ib_{3} \\sin{\\left(2 \\theta{\\left(t \\right)} \\right)} \\frac{d}{d t} \\phi{\\left(t \\right)} \\frac{d}{d t} \\theta{\\left(t \\right)} + 1.0 Ib_{3} \\frac{d^{2}}{d t^{2}} \\phi{\\left(t \\right)} + 2.0 K \\frac{d^{2}}{d t^{2}} \\phi{\\left(t \\right)} + 0.5 d^{2} m_{w} \\frac{d^{2}}{d t^{2}} \\phi{\\left(t \\right)} + 1.0 l^{2} m_{b} \\sin^{2}{\\left(\\theta{\\left(t \\right)} \\right)} \\frac{d^{2}}{d t^{2}} \\phi{\\left(t \\right)} + 1.0 l^{2} m_{b} \\sin{\\left(2 \\theta{\\left(t \\right)} \\right)} \\frac{d}{d t} \\phi{\\left(t \\right)} \\frac{d}{d t} \\theta{\\left(t \\right)} - 1.0 l m_{b} \\sin{\\left(\\phi{\\left(t \\right)} \\right)} \\sin{\\left(\\theta{\\left(t \\right)} \\right)} \\frac{d^{2}}{d t^{2}} x_{c}{\\left(t \\right)} + 1.0 l m_{b} \\sin{\\left(\\theta{\\left(t \\right)} \\right)} \\cos{\\left(\\phi{\\left(t \\right)} \\right)} \\frac{d^{2}}{d t^{2}} y_{c}{\\left(t \\right)}$"
          },
          "metadata": {}
        },
        {
          "output_type": "stream",
          "name": "stdout",
          "text": [
            "-------------------------------------\n",
            "Equation 4:\n"
          ]
        },
        {
          "output_type": "display_data",
          "data": {
            "text/plain": [
              "-0.5*Ib1*sin(2*theta(t))*Derivative(phi(t), t)**2 + 1.0*Ib2*Derivative(theta(t), (t, 2)) + 0.5*Ib3*sin(2*theta(t))*Derivative(phi(t), t)**2 - 1.0*g*l*m_b*sin(theta(t)) - 0.5*l**2*m_b*sin(2*theta(t))*Derivative(phi(t), t)**2 + 1.0*l**2*m_b*Derivative(theta(t), (t, 2)) + 1.0*l*m_b*sin(phi(t))*cos(theta(t))*Derivative(y_c(t), (t, 2)) + 1.0*l*m_b*cos(phi(t))*cos(theta(t))*Derivative(x_c(t), (t, 2))"
            ],
            "text/latex": "$\\displaystyle - 0.5 Ib_{1} \\sin{\\left(2 \\theta{\\left(t \\right)} \\right)} \\left(\\frac{d}{d t} \\phi{\\left(t \\right)}\\right)^{2} + 1.0 Ib_{2} \\frac{d^{2}}{d t^{2}} \\theta{\\left(t \\right)} + 0.5 Ib_{3} \\sin{\\left(2 \\theta{\\left(t \\right)} \\right)} \\left(\\frac{d}{d t} \\phi{\\left(t \\right)}\\right)^{2} - 1.0 g l m_{b} \\sin{\\left(\\theta{\\left(t \\right)} \\right)} - 0.5 l^{2} m_{b} \\sin{\\left(2 \\theta{\\left(t \\right)} \\right)} \\left(\\frac{d}{d t} \\phi{\\left(t \\right)}\\right)^{2} + 1.0 l^{2} m_{b} \\frac{d^{2}}{d t^{2}} \\theta{\\left(t \\right)} + 1.0 l m_{b} \\sin{\\left(\\phi{\\left(t \\right)} \\right)} \\cos{\\left(\\theta{\\left(t \\right)} \\right)} \\frac{d^{2}}{d t^{2}} y_{c}{\\left(t \\right)} + 1.0 l m_{b} \\cos{\\left(\\phi{\\left(t \\right)} \\right)} \\cos{\\left(\\theta{\\left(t \\right)} \\right)} \\frac{d^{2}}{d t^{2}} x_{c}{\\left(t \\right)}$"
          },
          "metadata": {}
        },
        {
          "output_type": "stream",
          "name": "stdout",
          "text": [
            "-------------------------------------\n"
          ]
        }
      ]
    },
    {
      "cell_type": "code",
      "source": [
        "#--------------- Canonical Equations ---------------\n",
        "def get_Mass_Matrix(q_, L_):\n",
        "  M = sp.zeros(len(q_),len(q_))\n",
        "\n",
        "  for i in range(0,len(q_)):\n",
        "    for j in range(0,len(q_)):\n",
        "      M[i, j] =  sp.diff(sp.diff(L_,sp.diff(q[i],t,1)),sp.diff(q[j],t,1))\n",
        "  display(M)\n",
        "  return M\n",
        "\n",
        "M = get_Mass_Matrix(q, L)\n",
        "G_C = sp.Matrix([V]).jacobian(q).transpose()\n",
        "\n",
        "\n",
        "C2 = sp.zeros(len(q), len(q))\n",
        "\n",
        "for k in range(0,len(q)):\n",
        "  for j in range(0, len(q)):\n",
        "    #C2[k,j] = 0\n",
        "    for i in range(0, len(q)):\n",
        "      C2[k,j] += ( sp.diff(M[k,j], q[i]) - 0.5*sp.diff(M[j,i], q[k]) )*q_dot[i]\n",
        "\n",
        "display(C2)\n",
        "\n",
        "C2 = sp.transpose(sp.Matrix([[K]]).jacobian(q_dot)).jacobian(q) * q_dot - sp.transpose(sp.Matrix([[K]]).jacobian(q))\n",
        "\n",
        "display(G_C)\n",
        "display(sp.simplify(C2))\n",
        "#------------------------------------------------"
      ],
      "metadata": {
        "colab": {
          "base_uri": "https://localhost:8080/",
          "height": 553
        },
        "id": "Wdx6i2aozhUw",
        "outputId": "792d9a54-6097-4746-f0ea-9cb06ac0023c"
      },
      "execution_count": 19,
      "outputs": [
        {
          "output_type": "display_data",
          "data": {
            "text/plain": [
              "Matrix([\n",
              "[                   1.0*m_b + 2.0*m_w,                                   0,                                                                                 -1.0*l*m_b*sin(phi(t))*sin(theta(t)), 1.0*l*m_b*cos(phi(t))*cos(theta(t)),     0,     0],\n",
              "[                                   0,                   1.0*m_b + 2.0*m_w,                                                                                  1.0*l*m_b*sin(theta(t))*cos(phi(t)), 1.0*l*m_b*sin(phi(t))*cos(theta(t)),     0,     0],\n",
              "[-1.0*l*m_b*sin(phi(t))*sin(theta(t)), 1.0*l*m_b*sin(theta(t))*cos(phi(t)), 1.0*Ib1*sin(theta(t))**2 - 1.0*Ib3*sin(theta(t))**2 + 1.0*Ib3 + 2.0*K + 0.5*d**2*m_w + 1.0*l**2*m_b*sin(theta(t))**2,                                   0,     0,     0],\n",
              "[ 1.0*l*m_b*cos(phi(t))*cos(theta(t)), 1.0*l*m_b*sin(phi(t))*cos(theta(t)),                                                                                                                    0,              1.0*Ib2 + 1.0*l**2*m_b,     0,     0],\n",
              "[                                   0,                                   0,                                                                                                                    0,                                   0, 1.0*J,     0],\n",
              "[                                   0,                                   0,                                                                                                                    0,                                   0,     0, 1.0*J]])"
            ],
            "text/latex": "$\\displaystyle \\left[\\begin{matrix}1.0 m_{b} + 2.0 m_{w} & 0 & - 1.0 l m_{b} \\sin{\\left(\\phi{\\left(t \\right)} \\right)} \\sin{\\left(\\theta{\\left(t \\right)} \\right)} & 1.0 l m_{b} \\cos{\\left(\\phi{\\left(t \\right)} \\right)} \\cos{\\left(\\theta{\\left(t \\right)} \\right)} & 0 & 0\\\\0 & 1.0 m_{b} + 2.0 m_{w} & 1.0 l m_{b} \\sin{\\left(\\theta{\\left(t \\right)} \\right)} \\cos{\\left(\\phi{\\left(t \\right)} \\right)} & 1.0 l m_{b} \\sin{\\left(\\phi{\\left(t \\right)} \\right)} \\cos{\\left(\\theta{\\left(t \\right)} \\right)} & 0 & 0\\\\- 1.0 l m_{b} \\sin{\\left(\\phi{\\left(t \\right)} \\right)} \\sin{\\left(\\theta{\\left(t \\right)} \\right)} & 1.0 l m_{b} \\sin{\\left(\\theta{\\left(t \\right)} \\right)} \\cos{\\left(\\phi{\\left(t \\right)} \\right)} & 1.0 Ib_{1} \\sin^{2}{\\left(\\theta{\\left(t \\right)} \\right)} - 1.0 Ib_{3} \\sin^{2}{\\left(\\theta{\\left(t \\right)} \\right)} + 1.0 Ib_{3} + 2.0 K + 0.5 d^{2} m_{w} + 1.0 l^{2} m_{b} \\sin^{2}{\\left(\\theta{\\left(t \\right)} \\right)} & 0 & 0 & 0\\\\1.0 l m_{b} \\cos{\\left(\\phi{\\left(t \\right)} \\right)} \\cos{\\left(\\theta{\\left(t \\right)} \\right)} & 1.0 l m_{b} \\sin{\\left(\\phi{\\left(t \\right)} \\right)} \\cos{\\left(\\theta{\\left(t \\right)} \\right)} & 0 & 1.0 Ib_{2} + 1.0 l^{2} m_{b} & 0 & 0\\\\0 & 0 & 0 & 0 & 1.0 J & 0\\\\0 & 0 & 0 & 0 & 0 & 1.0 J\\end{matrix}\\right]$"
          },
          "metadata": {}
        },
        {
          "output_type": "display_data",
          "data": {
            "text/plain": [
              "Matrix([\n",
              "[                                                                                                                       0,                                                                                                                        0,                                                                                                                                               -1.0*l*m_b*sin(phi(t))*cos(theta(t))*Derivative(theta(t), t) - 1.0*l*m_b*sin(theta(t))*cos(phi(t))*Derivative(phi(t), t), -1.0*l*m_b*sin(phi(t))*cos(theta(t))*Derivative(phi(t), t) - 1.0*l*m_b*sin(theta(t))*cos(phi(t))*Derivative(theta(t), t), 0, 0],\n",
              "[                                                                                                                       0,                                                                                                                        0,                                                                                                                                               -1.0*l*m_b*sin(phi(t))*sin(theta(t))*Derivative(phi(t), t) + 1.0*l*m_b*cos(phi(t))*cos(theta(t))*Derivative(theta(t), t), -1.0*l*m_b*sin(phi(t))*sin(theta(t))*Derivative(theta(t), t) + 1.0*l*m_b*cos(phi(t))*cos(theta(t))*Derivative(phi(t), t), 0, 0],\n",
              "[-0.5*l*m_b*sin(phi(t))*cos(theta(t))*Derivative(theta(t), t) - 0.5*l*m_b*sin(theta(t))*cos(phi(t))*Derivative(phi(t), t), -0.5*l*m_b*sin(phi(t))*sin(theta(t))*Derivative(phi(t), t) + 0.5*l*m_b*cos(phi(t))*cos(theta(t))*Derivative(theta(t), t), 0.5*l*m_b*sin(phi(t))*sin(theta(t))*Derivative(y_c(t), t) + 0.5*l*m_b*sin(theta(t))*cos(phi(t))*Derivative(x_c(t), t) + (2.0*Ib1*sin(theta(t))*cos(theta(t)) - 2.0*Ib3*sin(theta(t))*cos(theta(t)) + 2.0*l**2*m_b*sin(theta(t))*cos(theta(t)))*Derivative(theta(t), t),    0.5*l*m_b*sin(phi(t))*cos(theta(t))*Derivative(x_c(t), t) - 0.5*l*m_b*cos(phi(t))*cos(theta(t))*Derivative(y_c(t), t), 0, 0],\n",
              "[-0.5*l*m_b*sin(phi(t))*cos(theta(t))*Derivative(phi(t), t) - 0.5*l*m_b*sin(theta(t))*cos(phi(t))*Derivative(theta(t), t), -0.5*l*m_b*sin(phi(t))*sin(theta(t))*Derivative(theta(t), t) + 0.5*l*m_b*cos(phi(t))*cos(theta(t))*Derivative(phi(t), t),  0.5*l*m_b*sin(phi(t))*cos(theta(t))*Derivative(x_c(t), t) - 0.5*l*m_b*cos(phi(t))*cos(theta(t))*Derivative(y_c(t), t) + (-1.0*Ib1*sin(theta(t))*cos(theta(t)) + 1.0*Ib3*sin(theta(t))*cos(theta(t)) - 1.0*l**2*m_b*sin(theta(t))*cos(theta(t)))*Derivative(phi(t), t),    0.5*l*m_b*sin(phi(t))*sin(theta(t))*Derivative(y_c(t), t) + 0.5*l*m_b*sin(theta(t))*cos(phi(t))*Derivative(x_c(t), t), 0, 0],\n",
              "[                                                                                                                       0,                                                                                                                        0,                                                                                                                                                                                                                                                                      0,                                                                                                                        0, 0, 0],\n",
              "[                                                                                                                       0,                                                                                                                        0,                                                                                                                                                                                                                                                                      0,                                                                                                                        0, 0, 0]])"
            ],
            "text/latex": "$\\displaystyle \\left[\\begin{matrix}0 & 0 & - 1.0 l m_{b} \\sin{\\left(\\phi{\\left(t \\right)} \\right)} \\cos{\\left(\\theta{\\left(t \\right)} \\right)} \\frac{d}{d t} \\theta{\\left(t \\right)} - 1.0 l m_{b} \\sin{\\left(\\theta{\\left(t \\right)} \\right)} \\cos{\\left(\\phi{\\left(t \\right)} \\right)} \\frac{d}{d t} \\phi{\\left(t \\right)} & - 1.0 l m_{b} \\sin{\\left(\\phi{\\left(t \\right)} \\right)} \\cos{\\left(\\theta{\\left(t \\right)} \\right)} \\frac{d}{d t} \\phi{\\left(t \\right)} - 1.0 l m_{b} \\sin{\\left(\\theta{\\left(t \\right)} \\right)} \\cos{\\left(\\phi{\\left(t \\right)} \\right)} \\frac{d}{d t} \\theta{\\left(t \\right)} & 0 & 0\\\\0 & 0 & - 1.0 l m_{b} \\sin{\\left(\\phi{\\left(t \\right)} \\right)} \\sin{\\left(\\theta{\\left(t \\right)} \\right)} \\frac{d}{d t} \\phi{\\left(t \\right)} + 1.0 l m_{b} \\cos{\\left(\\phi{\\left(t \\right)} \\right)} \\cos{\\left(\\theta{\\left(t \\right)} \\right)} \\frac{d}{d t} \\theta{\\left(t \\right)} & - 1.0 l m_{b} \\sin{\\left(\\phi{\\left(t \\right)} \\right)} \\sin{\\left(\\theta{\\left(t \\right)} \\right)} \\frac{d}{d t} \\theta{\\left(t \\right)} + 1.0 l m_{b} \\cos{\\left(\\phi{\\left(t \\right)} \\right)} \\cos{\\left(\\theta{\\left(t \\right)} \\right)} \\frac{d}{d t} \\phi{\\left(t \\right)} & 0 & 0\\\\- 0.5 l m_{b} \\sin{\\left(\\phi{\\left(t \\right)} \\right)} \\cos{\\left(\\theta{\\left(t \\right)} \\right)} \\frac{d}{d t} \\theta{\\left(t \\right)} - 0.5 l m_{b} \\sin{\\left(\\theta{\\left(t \\right)} \\right)} \\cos{\\left(\\phi{\\left(t \\right)} \\right)} \\frac{d}{d t} \\phi{\\left(t \\right)} & - 0.5 l m_{b} \\sin{\\left(\\phi{\\left(t \\right)} \\right)} \\sin{\\left(\\theta{\\left(t \\right)} \\right)} \\frac{d}{d t} \\phi{\\left(t \\right)} + 0.5 l m_{b} \\cos{\\left(\\phi{\\left(t \\right)} \\right)} \\cos{\\left(\\theta{\\left(t \\right)} \\right)} \\frac{d}{d t} \\theta{\\left(t \\right)} & 0.5 l m_{b} \\sin{\\left(\\phi{\\left(t \\right)} \\right)} \\sin{\\left(\\theta{\\left(t \\right)} \\right)} \\frac{d}{d t} y_{c}{\\left(t \\right)} + 0.5 l m_{b} \\sin{\\left(\\theta{\\left(t \\right)} \\right)} \\cos{\\left(\\phi{\\left(t \\right)} \\right)} \\frac{d}{d t} x_{c}{\\left(t \\right)} + \\left(2.0 Ib_{1} \\sin{\\left(\\theta{\\left(t \\right)} \\right)} \\cos{\\left(\\theta{\\left(t \\right)} \\right)} - 2.0 Ib_{3} \\sin{\\left(\\theta{\\left(t \\right)} \\right)} \\cos{\\left(\\theta{\\left(t \\right)} \\right)} + 2.0 l^{2} m_{b} \\sin{\\left(\\theta{\\left(t \\right)} \\right)} \\cos{\\left(\\theta{\\left(t \\right)} \\right)}\\right) \\frac{d}{d t} \\theta{\\left(t \\right)} & 0.5 l m_{b} \\sin{\\left(\\phi{\\left(t \\right)} \\right)} \\cos{\\left(\\theta{\\left(t \\right)} \\right)} \\frac{d}{d t} x_{c}{\\left(t \\right)} - 0.5 l m_{b} \\cos{\\left(\\phi{\\left(t \\right)} \\right)} \\cos{\\left(\\theta{\\left(t \\right)} \\right)} \\frac{d}{d t} y_{c}{\\left(t \\right)} & 0 & 0\\\\- 0.5 l m_{b} \\sin{\\left(\\phi{\\left(t \\right)} \\right)} \\cos{\\left(\\theta{\\left(t \\right)} \\right)} \\frac{d}{d t} \\phi{\\left(t \\right)} - 0.5 l m_{b} \\sin{\\left(\\theta{\\left(t \\right)} \\right)} \\cos{\\left(\\phi{\\left(t \\right)} \\right)} \\frac{d}{d t} \\theta{\\left(t \\right)} & - 0.5 l m_{b} \\sin{\\left(\\phi{\\left(t \\right)} \\right)} \\sin{\\left(\\theta{\\left(t \\right)} \\right)} \\frac{d}{d t} \\theta{\\left(t \\right)} + 0.5 l m_{b} \\cos{\\left(\\phi{\\left(t \\right)} \\right)} \\cos{\\left(\\theta{\\left(t \\right)} \\right)} \\frac{d}{d t} \\phi{\\left(t \\right)} & 0.5 l m_{b} \\sin{\\left(\\phi{\\left(t \\right)} \\right)} \\cos{\\left(\\theta{\\left(t \\right)} \\right)} \\frac{d}{d t} x_{c}{\\left(t \\right)} - 0.5 l m_{b} \\cos{\\left(\\phi{\\left(t \\right)} \\right)} \\cos{\\left(\\theta{\\left(t \\right)} \\right)} \\frac{d}{d t} y_{c}{\\left(t \\right)} + \\left(- 1.0 Ib_{1} \\sin{\\left(\\theta{\\left(t \\right)} \\right)} \\cos{\\left(\\theta{\\left(t \\right)} \\right)} + 1.0 Ib_{3} \\sin{\\left(\\theta{\\left(t \\right)} \\right)} \\cos{\\left(\\theta{\\left(t \\right)} \\right)} - 1.0 l^{2} m_{b} \\sin{\\left(\\theta{\\left(t \\right)} \\right)} \\cos{\\left(\\theta{\\left(t \\right)} \\right)}\\right) \\frac{d}{d t} \\phi{\\left(t \\right)} & 0.5 l m_{b} \\sin{\\left(\\phi{\\left(t \\right)} \\right)} \\sin{\\left(\\theta{\\left(t \\right)} \\right)} \\frac{d}{d t} y_{c}{\\left(t \\right)} + 0.5 l m_{b} \\sin{\\left(\\theta{\\left(t \\right)} \\right)} \\cos{\\left(\\phi{\\left(t \\right)} \\right)} \\frac{d}{d t} x_{c}{\\left(t \\right)} & 0 & 0\\\\0 & 0 & 0 & 0 & 0 & 0\\\\0 & 0 & 0 & 0 & 0 & 0\\end{matrix}\\right]$"
          },
          "metadata": {}
        },
        {
          "output_type": "display_data",
          "data": {
            "text/plain": [
              "Matrix([\n",
              "[                     0],\n",
              "[                     0],\n",
              "[                     0],\n",
              "[-g*l*m_b*sin(theta(t))],\n",
              "[                     0],\n",
              "[                     0]])"
            ],
            "text/latex": "$\\displaystyle \\left[\\begin{matrix}0\\\\0\\\\0\\\\- g l m_{b} \\sin{\\left(\\theta{\\left(t \\right)} \\right)}\\\\0\\\\0\\end{matrix}\\right]$"
          },
          "metadata": {}
        },
        {
          "output_type": "display_data",
          "data": {
            "text/plain": [
              "Matrix([\n",
              "[-l*m_b*(2.0*sin(phi(t))*cos(theta(t))*Derivative(phi(t), t)*Derivative(theta(t), t) + 1.0*sin(theta(t))*cos(phi(t))*Derivative(phi(t), t)**2 + 1.0*sin(theta(t))*cos(phi(t))*Derivative(theta(t), t)**2)],\n",
              "[l*m_b*(-1.0*sin(phi(t))*sin(theta(t))*Derivative(phi(t), t)**2 - 1.0*sin(phi(t))*sin(theta(t))*Derivative(theta(t), t)**2 + 2.0*cos(phi(t))*cos(theta(t))*Derivative(phi(t), t)*Derivative(theta(t), t))],\n",
              "[                                                                                                                1.0*(Ib1 - Ib3 + l**2*m_b)*sin(2*theta(t))*Derivative(phi(t), t)*Derivative(theta(t), t)],\n",
              "[                                                                                                                                    0.5*(-Ib1 + Ib3 - l**2*m_b)*sin(2*theta(t))*Derivative(phi(t), t)**2],\n",
              "[                                                                                                                                                                                                       0],\n",
              "[                                                                                                                                                                                                       0]])"
            ],
            "text/latex": "$\\displaystyle \\left[\\begin{matrix}- l m_{b} \\left(2.0 \\sin{\\left(\\phi{\\left(t \\right)} \\right)} \\cos{\\left(\\theta{\\left(t \\right)} \\right)} \\frac{d}{d t} \\phi{\\left(t \\right)} \\frac{d}{d t} \\theta{\\left(t \\right)} + 1.0 \\sin{\\left(\\theta{\\left(t \\right)} \\right)} \\cos{\\left(\\phi{\\left(t \\right)} \\right)} \\left(\\frac{d}{d t} \\phi{\\left(t \\right)}\\right)^{2} + 1.0 \\sin{\\left(\\theta{\\left(t \\right)} \\right)} \\cos{\\left(\\phi{\\left(t \\right)} \\right)} \\left(\\frac{d}{d t} \\theta{\\left(t \\right)}\\right)^{2}\\right)\\\\l m_{b} \\left(- 1.0 \\sin{\\left(\\phi{\\left(t \\right)} \\right)} \\sin{\\left(\\theta{\\left(t \\right)} \\right)} \\left(\\frac{d}{d t} \\phi{\\left(t \\right)}\\right)^{2} - 1.0 \\sin{\\left(\\phi{\\left(t \\right)} \\right)} \\sin{\\left(\\theta{\\left(t \\right)} \\right)} \\left(\\frac{d}{d t} \\theta{\\left(t \\right)}\\right)^{2} + 2.0 \\cos{\\left(\\phi{\\left(t \\right)} \\right)} \\cos{\\left(\\theta{\\left(t \\right)} \\right)} \\frac{d}{d t} \\phi{\\left(t \\right)} \\frac{d}{d t} \\theta{\\left(t \\right)}\\right)\\\\1.0 \\left(Ib_{1} - Ib_{3} + l^{2} m_{b}\\right) \\sin{\\left(2 \\theta{\\left(t \\right)} \\right)} \\frac{d}{d t} \\phi{\\left(t \\right)} \\frac{d}{d t} \\theta{\\left(t \\right)}\\\\0.5 \\left(- Ib_{1} + Ib_{3} - l^{2} m_{b}\\right) \\sin{\\left(2 \\theta{\\left(t \\right)} \\right)} \\left(\\frac{d}{d t} \\phi{\\left(t \\right)}\\right)^{2}\\\\0\\\\0\\end{matrix}\\right]$"
          },
          "metadata": {}
        }
      ]
    },
    {
      "cell_type": "code",
      "source": [
        "#--------------- Non Holonomic Constraints ---------------\n",
        "#No forward slip and no lateral slip conditions\n",
        "#Set of constraints:\n",
        "\n",
        "constraints = sp.Matrix([\n",
        "     [sp.diff(x_c(t),t)*sp.sin(phi(t)) - sp.diff(y_c(t),t)*sp.cos(phi(t))],\\\n",
        "     [sp.diff(x_c(t),t)*sp.cos(phi(t)) + sp.diff(y_c(t),t)*sp.sin(phi(t)) + (d/2)*sp.diff(phi(t),t) - r*sp.diff(alpha_R(t),t)],\\\n",
        "     [sp.diff(x_c(t),t)*sp.cos(phi(t)) + sp.diff(y_c(t),t)*sp.sin(phi(t)) - (d/2)*sp.diff(phi(t),t) - r*sp.diff(alpha_L(t),t)]\n",
        "                        ])\n",
        "\n",
        "\n",
        "display(constraints)\n",
        "\n",
        "A = sp.zeros(len(constraints),len(q))\n",
        "for i in range(0, len(constraints)):\n",
        "  for j in range(0, len(q_dot)):\n",
        "    A[i, j] = sp.diff(constraints[i], q_dot[j])\n",
        "\n",
        "\n",
        "G = sp.Matrix([[sp.cos(phi(t)), 0, 0],\\\n",
        "               [sp.sin(phi(t)), 0, 0],\\\n",
        "               [0, 1, 0],\\\n",
        "               [0, 0, 1],\\\n",
        "               [1/r, d/(2*r), 0],\\\n",
        "               [1/r, -d/(2*r), 0]\n",
        "               ])\n",
        "G_dot = sp.diff(G, t)\n",
        "\n",
        "\n",
        "display('A', A)\n",
        "display('G', G)\n",
        "display(G_dot)\n",
        "display(sp.simplify(A*G)) #this must be zero!"
      ],
      "metadata": {
        "colab": {
          "base_uri": "https://localhost:8080/",
          "height": 496
        },
        "id": "uKwAH2oHarw1",
        "outputId": "6d676419-b478-44bd-fc6b-ad53e1dc20c9"
      },
      "execution_count": 20,
      "outputs": [
        {
          "output_type": "display_data",
          "data": {
            "text/plain": [
              "Matrix([\n",
              "[                                                           sin(phi(t))*Derivative(x_c(t), t) - cos(phi(t))*Derivative(y_c(t), t)],\n",
              "[ d*Derivative(phi(t), t)/2 - r*Derivative(alpha_R(t), t) + sin(phi(t))*Derivative(y_c(t), t) + cos(phi(t))*Derivative(x_c(t), t)],\n",
              "[-d*Derivative(phi(t), t)/2 - r*Derivative(alpha_L(t), t) + sin(phi(t))*Derivative(y_c(t), t) + cos(phi(t))*Derivative(x_c(t), t)]])"
            ],
            "text/latex": "$\\displaystyle \\left[\\begin{matrix}\\sin{\\left(\\phi{\\left(t \\right)} \\right)} \\frac{d}{d t} x_{c}{\\left(t \\right)} - \\cos{\\left(\\phi{\\left(t \\right)} \\right)} \\frac{d}{d t} y_{c}{\\left(t \\right)}\\\\\\frac{d \\frac{d}{d t} \\phi{\\left(t \\right)}}{2} - r \\frac{d}{d t} \\alpha_{R}{\\left(t \\right)} + \\sin{\\left(\\phi{\\left(t \\right)} \\right)} \\frac{d}{d t} y_{c}{\\left(t \\right)} + \\cos{\\left(\\phi{\\left(t \\right)} \\right)} \\frac{d}{d t} x_{c}{\\left(t \\right)}\\\\- \\frac{d \\frac{d}{d t} \\phi{\\left(t \\right)}}{2} - r \\frac{d}{d t} \\alpha_{L}{\\left(t \\right)} + \\sin{\\left(\\phi{\\left(t \\right)} \\right)} \\frac{d}{d t} y_{c}{\\left(t \\right)} + \\cos{\\left(\\phi{\\left(t \\right)} \\right)} \\frac{d}{d t} x_{c}{\\left(t \\right)}\\end{matrix}\\right]$"
          },
          "metadata": {}
        },
        {
          "output_type": "display_data",
          "data": {
            "text/plain": [
              "'A'"
            ],
            "application/vnd.google.colaboratory.intrinsic+json": {
              "type": "string"
            }
          },
          "metadata": {}
        },
        {
          "output_type": "display_data",
          "data": {
            "text/plain": [
              "Matrix([\n",
              "[sin(phi(t)), -cos(phi(t)),    0, 0,  0,  0],\n",
              "[cos(phi(t)),  sin(phi(t)),  d/2, 0, -r,  0],\n",
              "[cos(phi(t)),  sin(phi(t)), -d/2, 0,  0, -r]])"
            ],
            "text/latex": "$\\displaystyle \\left[\\begin{matrix}\\sin{\\left(\\phi{\\left(t \\right)} \\right)} & - \\cos{\\left(\\phi{\\left(t \\right)} \\right)} & 0 & 0 & 0 & 0\\\\\\cos{\\left(\\phi{\\left(t \\right)} \\right)} & \\sin{\\left(\\phi{\\left(t \\right)} \\right)} & \\frac{d}{2} & 0 & - r & 0\\\\\\cos{\\left(\\phi{\\left(t \\right)} \\right)} & \\sin{\\left(\\phi{\\left(t \\right)} \\right)} & - \\frac{d}{2} & 0 & 0 & - r\\end{matrix}\\right]$"
          },
          "metadata": {}
        },
        {
          "output_type": "display_data",
          "data": {
            "text/plain": [
              "'G'"
            ],
            "application/vnd.google.colaboratory.intrinsic+json": {
              "type": "string"
            }
          },
          "metadata": {}
        },
        {
          "output_type": "display_data",
          "data": {
            "text/plain": [
              "Matrix([\n",
              "[cos(phi(t)),        0, 0],\n",
              "[sin(phi(t)),        0, 0],\n",
              "[          0,        1, 0],\n",
              "[          0,        0, 1],\n",
              "[        1/r,  d/(2*r), 0],\n",
              "[        1/r, -d/(2*r), 0]])"
            ],
            "text/latex": "$\\displaystyle \\left[\\begin{matrix}\\cos{\\left(\\phi{\\left(t \\right)} \\right)} & 0 & 0\\\\\\sin{\\left(\\phi{\\left(t \\right)} \\right)} & 0 & 0\\\\0 & 1 & 0\\\\0 & 0 & 1\\\\\\frac{1}{r} & \\frac{d}{2 r} & 0\\\\\\frac{1}{r} & - \\frac{d}{2 r} & 0\\end{matrix}\\right]$"
          },
          "metadata": {}
        },
        {
          "output_type": "display_data",
          "data": {
            "text/plain": [
              "Matrix([\n",
              "[-sin(phi(t))*Derivative(phi(t), t), 0, 0],\n",
              "[ cos(phi(t))*Derivative(phi(t), t), 0, 0],\n",
              "[                                 0, 0, 0],\n",
              "[                                 0, 0, 0],\n",
              "[                                 0, 0, 0],\n",
              "[                                 0, 0, 0]])"
            ],
            "text/latex": "$\\displaystyle \\left[\\begin{matrix}- \\sin{\\left(\\phi{\\left(t \\right)} \\right)} \\frac{d}{d t} \\phi{\\left(t \\right)} & 0 & 0\\\\\\cos{\\left(\\phi{\\left(t \\right)} \\right)} \\frac{d}{d t} \\phi{\\left(t \\right)} & 0 & 0\\\\0 & 0 & 0\\\\0 & 0 & 0\\\\0 & 0 & 0\\\\0 & 0 & 0\\end{matrix}\\right]$"
          },
          "metadata": {}
        },
        {
          "output_type": "display_data",
          "data": {
            "text/plain": [
              "Matrix([\n",
              "[0, 0, 0],\n",
              "[0, 0, 0],\n",
              "[0, 0, 0]])"
            ],
            "text/latex": "$\\displaystyle \\left[\\begin{matrix}0 & 0 & 0\\\\0 & 0 & 0\\\\0 & 0 & 0\\end{matrix}\\right]$"
          },
          "metadata": {}
        }
      ]
    },
    {
      "cell_type": "code",
      "source": [
        "#New canonical equations\n",
        "#................Pseudo-velocity vector\n",
        "x = sp.Function('x', real=True) #Forward velocity v_c\n",
        "x_dot = sp.diff(x(t), t)\n",
        "\n",
        "v = sp.Matrix([x_dot, sp.diff(phi(t),t), sp.diff(theta(t),t)]) #pseudo-velocity\n",
        "\n",
        "\n",
        "v_dot = sp.diff(v, t)\n",
        "display('v', v)\n",
        "\n",
        "Gv = G*v\n",
        "display('G', G)\n",
        "display('Gv', sp.simplify(Gv))\n",
        "#......................................\n",
        "\n",
        "M_G = sp.simplify(sp.transpose(G)*M*G)\n",
        "C_G = sp.simplify(sp.transpose(G)*M*G_dot)\n",
        "#H_G = sp.simplify(sp.transpose(G)*C2*q_dot)#CONFERIR\n",
        "H_G = sp.simplify(sp.transpose(G)*C2)#SMS\n",
        "G_G = sp.simplify(sp.transpose(G)*G_C)\n",
        "Q_G = sp.simplify(sp.transpose(G)*Q)\n",
        "E_L2 = sp.simplify(M_G*v_dot + (C_G)*v +H_G + G_G)\n",
        "\n",
        "display('M_G', M_G)\n",
        "display('C_G', C_G)\n",
        "display('H_G', H_G)\n",
        "display('G_G', G_G)\n",
        "display('Q_G', Q_G)\n",
        "display('E_L2', E_L2)\n",
        "display(sp.simplify((C_G)*v +H_G))\n"
      ],
      "metadata": {
        "colab": {
          "base_uri": "https://localhost:8080/",
          "height": 1000
        },
        "id": "x4AdJOQinh2z",
        "outputId": "ba1f7172-b375-4c4d-cb89-b95fc50f7f68"
      },
      "execution_count": 21,
      "outputs": [
        {
          "output_type": "display_data",
          "data": {
            "text/plain": [
              "'v'"
            ],
            "application/vnd.google.colaboratory.intrinsic+json": {
              "type": "string"
            }
          },
          "metadata": {}
        },
        {
          "output_type": "display_data",
          "data": {
            "text/plain": [
              "Matrix([\n",
              "[    Derivative(x(t), t)],\n",
              "[  Derivative(phi(t), t)],\n",
              "[Derivative(theta(t), t)]])"
            ],
            "text/latex": "$\\displaystyle \\left[\\begin{matrix}\\frac{d}{d t} x{\\left(t \\right)}\\\\\\frac{d}{d t} \\phi{\\left(t \\right)}\\\\\\frac{d}{d t} \\theta{\\left(t \\right)}\\end{matrix}\\right]$"
          },
          "metadata": {}
        },
        {
          "output_type": "display_data",
          "data": {
            "text/plain": [
              "'G'"
            ],
            "application/vnd.google.colaboratory.intrinsic+json": {
              "type": "string"
            }
          },
          "metadata": {}
        },
        {
          "output_type": "display_data",
          "data": {
            "text/plain": [
              "Matrix([\n",
              "[cos(phi(t)),        0, 0],\n",
              "[sin(phi(t)),        0, 0],\n",
              "[          0,        1, 0],\n",
              "[          0,        0, 1],\n",
              "[        1/r,  d/(2*r), 0],\n",
              "[        1/r, -d/(2*r), 0]])"
            ],
            "text/latex": "$\\displaystyle \\left[\\begin{matrix}\\cos{\\left(\\phi{\\left(t \\right)} \\right)} & 0 & 0\\\\\\sin{\\left(\\phi{\\left(t \\right)} \\right)} & 0 & 0\\\\0 & 1 & 0\\\\0 & 0 & 1\\\\\\frac{1}{r} & \\frac{d}{2 r} & 0\\\\\\frac{1}{r} & - \\frac{d}{2 r} & 0\\end{matrix}\\right]$"
          },
          "metadata": {}
        },
        {
          "output_type": "display_data",
          "data": {
            "text/plain": [
              "'Gv'"
            ],
            "application/vnd.google.colaboratory.intrinsic+json": {
              "type": "string"
            }
          },
          "metadata": {}
        },
        {
          "output_type": "display_data",
          "data": {
            "text/plain": [
              "Matrix([\n",
              "[                     cos(phi(t))*Derivative(x(t), t)],\n",
              "[                     sin(phi(t))*Derivative(x(t), t)],\n",
              "[                               Derivative(phi(t), t)],\n",
              "[                             Derivative(theta(t), t)],\n",
              "[ (d*Derivative(phi(t), t)/2 + Derivative(x(t), t))/r],\n",
              "[(-d*Derivative(phi(t), t)/2 + Derivative(x(t), t))/r]])"
            ],
            "text/latex": "$\\displaystyle \\left[\\begin{matrix}\\cos{\\left(\\phi{\\left(t \\right)} \\right)} \\frac{d}{d t} x{\\left(t \\right)}\\\\\\sin{\\left(\\phi{\\left(t \\right)} \\right)} \\frac{d}{d t} x{\\left(t \\right)}\\\\\\frac{d}{d t} \\phi{\\left(t \\right)}\\\\\\frac{d}{d t} \\theta{\\left(t \\right)}\\\\\\frac{\\frac{d \\frac{d}{d t} \\phi{\\left(t \\right)}}{2} + \\frac{d}{d t} x{\\left(t \\right)}}{r}\\\\\\frac{- \\frac{d \\frac{d}{d t} \\phi{\\left(t \\right)}}{2} + \\frac{d}{d t} x{\\left(t \\right)}}{r}\\end{matrix}\\right]$"
          },
          "metadata": {}
        },
        {
          "output_type": "display_data",
          "data": {
            "text/plain": [
              "'M_G'"
            ],
            "application/vnd.google.colaboratory.intrinsic+json": {
              "type": "string"
            }
          },
          "metadata": {}
        },
        {
          "output_type": "display_data",
          "data": {
            "text/plain": [
              "Matrix([\n",
              "[2.0*J/r**2 + 1.0*m_b + 2.0*m_w,                                                                                                                                      0, 1.0*l*m_b*cos(theta(t))],\n",
              "[                             0, 1.0*Ib1*sin(theta(t))**2 - 1.0*Ib3*sin(theta(t))**2 + 1.0*Ib3 + 0.5*J*d**2/r**2 + 2.0*K + 0.5*d**2*m_w + 1.0*l**2*m_b*sin(theta(t))**2,                       0],\n",
              "[       1.0*l*m_b*cos(theta(t)),                                                                                                                                      0,  1.0*Ib2 + 1.0*l**2*m_b]])"
            ],
            "text/latex": "$\\displaystyle \\left[\\begin{matrix}\\frac{2.0 J}{r^{2}} + 1.0 m_{b} + 2.0 m_{w} & 0 & 1.0 l m_{b} \\cos{\\left(\\theta{\\left(t \\right)} \\right)}\\\\0 & 1.0 Ib_{1} \\sin^{2}{\\left(\\theta{\\left(t \\right)} \\right)} - 1.0 Ib_{3} \\sin^{2}{\\left(\\theta{\\left(t \\right)} \\right)} + 1.0 Ib_{3} + \\frac{0.5 J d^{2}}{r^{2}} + 2.0 K + 0.5 d^{2} m_{w} + 1.0 l^{2} m_{b} \\sin^{2}{\\left(\\theta{\\left(t \\right)} \\right)} & 0\\\\1.0 l m_{b} \\cos{\\left(\\theta{\\left(t \\right)} \\right)} & 0 & 1.0 Ib_{2} + 1.0 l^{2} m_{b}\\end{matrix}\\right]$"
          },
          "metadata": {}
        },
        {
          "output_type": "display_data",
          "data": {
            "text/plain": [
              "'C_G'"
            ],
            "application/vnd.google.colaboratory.intrinsic+json": {
              "type": "string"
            }
          },
          "metadata": {}
        },
        {
          "output_type": "display_data",
          "data": {
            "text/plain": [
              "Matrix([\n",
              "[                                            0, 0, 0],\n",
              "[1.0*l*m_b*sin(theta(t))*Derivative(phi(t), t), 0, 0],\n",
              "[                                            0, 0, 0]])"
            ],
            "text/latex": "$\\displaystyle \\left[\\begin{matrix}0 & 0 & 0\\\\1.0 l m_{b} \\sin{\\left(\\theta{\\left(t \\right)} \\right)} \\frac{d}{d t} \\phi{\\left(t \\right)} & 0 & 0\\\\0 & 0 & 0\\end{matrix}\\right]$"
          },
          "metadata": {}
        },
        {
          "output_type": "display_data",
          "data": {
            "text/plain": [
              "'H_G'"
            ],
            "application/vnd.google.colaboratory.intrinsic+json": {
              "type": "string"
            }
          },
          "metadata": {}
        },
        {
          "output_type": "display_data",
          "data": {
            "text/plain": [
              "Matrix([\n",
              "[        -1.0*l*m_b*(Derivative(phi(t), t)**2 + Derivative(theta(t), t)**2)*sin(theta(t))],\n",
              "[1.0*(Ib1 - Ib3 + l**2*m_b)*sin(2*theta(t))*Derivative(phi(t), t)*Derivative(theta(t), t)],\n",
              "[                    0.5*(-Ib1 + Ib3 - l**2*m_b)*sin(2*theta(t))*Derivative(phi(t), t)**2]])"
            ],
            "text/latex": "$\\displaystyle \\left[\\begin{matrix}- 1.0 l m_{b} \\left(\\left(\\frac{d}{d t} \\phi{\\left(t \\right)}\\right)^{2} + \\left(\\frac{d}{d t} \\theta{\\left(t \\right)}\\right)^{2}\\right) \\sin{\\left(\\theta{\\left(t \\right)} \\right)}\\\\1.0 \\left(Ib_{1} - Ib_{3} + l^{2} m_{b}\\right) \\sin{\\left(2 \\theta{\\left(t \\right)} \\right)} \\frac{d}{d t} \\phi{\\left(t \\right)} \\frac{d}{d t} \\theta{\\left(t \\right)}\\\\0.5 \\left(- Ib_{1} + Ib_{3} - l^{2} m_{b}\\right) \\sin{\\left(2 \\theta{\\left(t \\right)} \\right)} \\left(\\frac{d}{d t} \\phi{\\left(t \\right)}\\right)^{2}\\end{matrix}\\right]$"
          },
          "metadata": {}
        },
        {
          "output_type": "display_data",
          "data": {
            "text/plain": [
              "'G_G'"
            ],
            "application/vnd.google.colaboratory.intrinsic+json": {
              "type": "string"
            }
          },
          "metadata": {}
        },
        {
          "output_type": "display_data",
          "data": {
            "text/plain": [
              "Matrix([\n",
              "[                     0],\n",
              "[                     0],\n",
              "[-g*l*m_b*sin(theta(t))]])"
            ],
            "text/latex": "$\\displaystyle \\left[\\begin{matrix}0\\\\0\\\\- g l m_{b} \\sin{\\left(\\theta{\\left(t \\right)} \\right)}\\end{matrix}\\right]$"
          },
          "metadata": {}
        },
        {
          "output_type": "display_data",
          "data": {
            "text/plain": [
              "'Q_G'"
            ],
            "application/vnd.google.colaboratory.intrinsic+json": {
              "type": "string"
            }
          },
          "metadata": {}
        },
        {
          "output_type": "display_data",
          "data": {
            "text/plain": [
              "Matrix([\n",
              "[       (tau_L + tau_R)/r],\n",
              "[d*(-tau_L + tau_R)/(2*r)],\n",
              "[          -tau_L - tau_R]])"
            ],
            "text/latex": "$\\displaystyle \\left[\\begin{matrix}\\frac{\\tau_{L} + \\tau_{R}}{r}\\\\\\frac{d \\left(- \\tau_{L} + \\tau_{R}\\right)}{2 r}\\\\- \\tau_{L} - \\tau_{R}\\end{matrix}\\right]$"
          },
          "metadata": {}
        },
        {
          "output_type": "display_data",
          "data": {
            "text/plain": [
              "'E_L2'"
            ],
            "application/vnd.google.colaboratory.intrinsic+json": {
              "type": "string"
            }
          },
          "metadata": {}
        },
        {
          "output_type": "display_data",
          "data": {
            "text/plain": [
              "Matrix([\n",
              "[                                                                                                               (1.0*l*m_b*r**2*(-(Derivative(phi(t), t)**2 + Derivative(theta(t), t)**2)*sin(theta(t)) + cos(theta(t))*Derivative(theta(t), (t, 2))) + (2.0*J + r**2*(1.0*m_b + 2.0*m_w))*Derivative(x(t), (t, 2)))/r**2],\n",
              "[(1.0*r**2*(l*m_b*sin(theta(t))*Derivative(x(t), t) + (Ib1 - Ib3 + l**2*m_b)*sin(2*theta(t))*Derivative(theta(t), t))*Derivative(phi(t), t) + (0.5*J*d**2 + r**2*(1.0*Ib1*sin(theta(t))**2 - 1.0*Ib3*sin(theta(t))**2 + 1.0*Ib3 + 2.0*K + 0.5*d**2*m_w + 1.0*l**2*m_b*sin(theta(t))**2))*Derivative(phi(t), (t, 2)))/r**2],\n",
              "[                                                                                                                     -g*l*m_b*sin(theta(t)) + 1.0*l*m_b*cos(theta(t))*Derivative(x(t), (t, 2)) + 1.0*(Ib2 + l**2*m_b)*Derivative(theta(t), (t, 2)) - 0.5*(Ib1 - Ib3 + l**2*m_b)*sin(2*theta(t))*Derivative(phi(t), t)**2]])"
            ],
            "text/latex": "$\\displaystyle \\left[\\begin{matrix}\\frac{1.0 l m_{b} r^{2} \\left(- \\left(\\left(\\frac{d}{d t} \\phi{\\left(t \\right)}\\right)^{2} + \\left(\\frac{d}{d t} \\theta{\\left(t \\right)}\\right)^{2}\\right) \\sin{\\left(\\theta{\\left(t \\right)} \\right)} + \\cos{\\left(\\theta{\\left(t \\right)} \\right)} \\frac{d^{2}}{d t^{2}} \\theta{\\left(t \\right)}\\right) + \\left(2.0 J + r^{2} \\cdot \\left(1.0 m_{b} + 2.0 m_{w}\\right)\\right) \\frac{d^{2}}{d t^{2}} x{\\left(t \\right)}}{r^{2}}\\\\\\frac{1.0 r^{2} \\left(l m_{b} \\sin{\\left(\\theta{\\left(t \\right)} \\right)} \\frac{d}{d t} x{\\left(t \\right)} + \\left(Ib_{1} - Ib_{3} + l^{2} m_{b}\\right) \\sin{\\left(2 \\theta{\\left(t \\right)} \\right)} \\frac{d}{d t} \\theta{\\left(t \\right)}\\right) \\frac{d}{d t} \\phi{\\left(t \\right)} + \\left(0.5 J d^{2} + r^{2} \\cdot \\left(1.0 Ib_{1} \\sin^{2}{\\left(\\theta{\\left(t \\right)} \\right)} - 1.0 Ib_{3} \\sin^{2}{\\left(\\theta{\\left(t \\right)} \\right)} + 1.0 Ib_{3} + 2.0 K + 0.5 d^{2} m_{w} + 1.0 l^{2} m_{b} \\sin^{2}{\\left(\\theta{\\left(t \\right)} \\right)}\\right)\\right) \\frac{d^{2}}{d t^{2}} \\phi{\\left(t \\right)}}{r^{2}}\\\\- g l m_{b} \\sin{\\left(\\theta{\\left(t \\right)} \\right)} + 1.0 l m_{b} \\cos{\\left(\\theta{\\left(t \\right)} \\right)} \\frac{d^{2}}{d t^{2}} x{\\left(t \\right)} + 1.0 \\left(Ib_{2} + l^{2} m_{b}\\right) \\frac{d^{2}}{d t^{2}} \\theta{\\left(t \\right)} - 0.5 \\left(Ib_{1} - Ib_{3} + l^{2} m_{b}\\right) \\sin{\\left(2 \\theta{\\left(t \\right)} \\right)} \\left(\\frac{d}{d t} \\phi{\\left(t \\right)}\\right)^{2}\\end{matrix}\\right]$"
          },
          "metadata": {}
        },
        {
          "output_type": "display_data",
          "data": {
            "text/plain": [
              "Matrix([\n",
              "[                                                    -1.0*l*m_b*(Derivative(phi(t), t)**2 + Derivative(theta(t), t)**2)*sin(theta(t))],\n",
              "[1.0*(l*m_b*sin(theta(t))*Derivative(x(t), t) + (Ib1 - Ib3 + l**2*m_b)*sin(2*theta(t))*Derivative(theta(t), t))*Derivative(phi(t), t)],\n",
              "[                                                                0.5*(-Ib1 + Ib3 - l**2*m_b)*sin(2*theta(t))*Derivative(phi(t), t)**2]])"
            ],
            "text/latex": "$\\displaystyle \\left[\\begin{matrix}- 1.0 l m_{b} \\left(\\left(\\frac{d}{d t} \\phi{\\left(t \\right)}\\right)^{2} + \\left(\\frac{d}{d t} \\theta{\\left(t \\right)}\\right)^{2}\\right) \\sin{\\left(\\theta{\\left(t \\right)} \\right)}\\\\1.0 \\left(l m_{b} \\sin{\\left(\\theta{\\left(t \\right)} \\right)} \\frac{d}{d t} x{\\left(t \\right)} + \\left(Ib_{1} - Ib_{3} + l^{2} m_{b}\\right) \\sin{\\left(2 \\theta{\\left(t \\right)} \\right)} \\frac{d}{d t} \\theta{\\left(t \\right)}\\right) \\frac{d}{d t} \\phi{\\left(t \\right)}\\\\0.5 \\left(- Ib_{1} + Ib_{3} - l^{2} m_{b}\\right) \\sin{\\left(2 \\theta{\\left(t \\right)} \\right)} \\left(\\frac{d}{d t} \\phi{\\left(t \\right)}\\right)^{2}\\end{matrix}\\right]$"
          },
          "metadata": {}
        }
      ]
    },
    {
      "cell_type": "code",
      "source": [
        "print('-------------------------------------')\n",
        "print(\"Equation 1:\")\n",
        "display(sp.collect(E_L2[0], [sp.diff(x_dot,t), -m_b*l*sp.sin(theta(t)), sp.diff(theta(t),t,2)]))\n",
        "print('-------------------------------------')\n",
        "print(\"Equation 2:\")\n",
        "display(sp.collect(E_L2[1], [sp.diff(theta(t),t,2), sp.diff(x_dot,t), sp.diff(phi(t),t)**2*sp.sin(theta(t))*sp.cos(theta(t))]))\n",
        "print('-------------------------------------')\n",
        "print(\"Equation 3:\")\n",
        "display(sp.collect(E_L2[2], [sp.diff(phi(t),t,2), sp.diff(phi(t),t)*sp.sin(theta(t))]))\n",
        "print('-------------------------------------')\n"
      ],
      "metadata": {
        "colab": {
          "base_uri": "https://localhost:8080/",
          "height": 273
        },
        "id": "j_j4-qWWCdOY",
        "outputId": "d47d0e7d-8191-449f-c6de-2f222fa361f6"
      },
      "execution_count": 22,
      "outputs": [
        {
          "output_type": "stream",
          "name": "stdout",
          "text": [
            "-------------------------------------\n",
            "Equation 1:\n"
          ]
        },
        {
          "output_type": "display_data",
          "data": {
            "text/plain": [
              "(1.0*l*m_b*r**2*(-(Derivative(phi(t), t)**2 + Derivative(theta(t), t)**2)*sin(theta(t)) + cos(theta(t))*Derivative(theta(t), (t, 2))) + (2.0*J + r**2*(1.0*m_b + 2.0*m_w))*Derivative(x(t), (t, 2)))/r**2"
            ],
            "text/latex": "$\\displaystyle \\frac{1.0 l m_{b} r^{2} \\left(- \\left(\\left(\\frac{d}{d t} \\phi{\\left(t \\right)}\\right)^{2} + \\left(\\frac{d}{d t} \\theta{\\left(t \\right)}\\right)^{2}\\right) \\sin{\\left(\\theta{\\left(t \\right)} \\right)} + \\cos{\\left(\\theta{\\left(t \\right)} \\right)} \\frac{d^{2}}{d t^{2}} \\theta{\\left(t \\right)}\\right) + \\left(2.0 J + r^{2} \\cdot \\left(1.0 m_{b} + 2.0 m_{w}\\right)\\right) \\frac{d^{2}}{d t^{2}} x{\\left(t \\right)}}{r^{2}}$"
          },
          "metadata": {}
        },
        {
          "output_type": "stream",
          "name": "stdout",
          "text": [
            "-------------------------------------\n",
            "Equation 2:\n"
          ]
        },
        {
          "output_type": "display_data",
          "data": {
            "text/plain": [
              "(1.0*r**2*(l*m_b*sin(theta(t))*Derivative(x(t), t) + (Ib1 - Ib3 + l**2*m_b)*sin(2*theta(t))*Derivative(theta(t), t))*Derivative(phi(t), t) + (0.5*J*d**2 + r**2*(1.0*Ib1*sin(theta(t))**2 - 1.0*Ib3*sin(theta(t))**2 + 1.0*Ib3 + 2.0*K + 0.5*d**2*m_w + 1.0*l**2*m_b*sin(theta(t))**2))*Derivative(phi(t), (t, 2)))/r**2"
            ],
            "text/latex": "$\\displaystyle \\frac{1.0 r^{2} \\left(l m_{b} \\sin{\\left(\\theta{\\left(t \\right)} \\right)} \\frac{d}{d t} x{\\left(t \\right)} + \\left(Ib_{1} - Ib_{3} + l^{2} m_{b}\\right) \\sin{\\left(2 \\theta{\\left(t \\right)} \\right)} \\frac{d}{d t} \\theta{\\left(t \\right)}\\right) \\frac{d}{d t} \\phi{\\left(t \\right)} + \\left(0.5 J d^{2} + r^{2} \\cdot \\left(1.0 Ib_{1} \\sin^{2}{\\left(\\theta{\\left(t \\right)} \\right)} - 1.0 Ib_{3} \\sin^{2}{\\left(\\theta{\\left(t \\right)} \\right)} + 1.0 Ib_{3} + 2.0 K + 0.5 d^{2} m_{w} + 1.0 l^{2} m_{b} \\sin^{2}{\\left(\\theta{\\left(t \\right)} \\right)}\\right)\\right) \\frac{d^{2}}{d t^{2}} \\phi{\\left(t \\right)}}{r^{2}}$"
          },
          "metadata": {}
        },
        {
          "output_type": "stream",
          "name": "stdout",
          "text": [
            "-------------------------------------\n",
            "Equation 3:\n"
          ]
        },
        {
          "output_type": "display_data",
          "data": {
            "text/plain": [
              "-g*l*m_b*sin(theta(t)) + 1.0*l*m_b*cos(theta(t))*Derivative(x(t), (t, 2)) + 1.0*(Ib2 + l**2*m_b)*Derivative(theta(t), (t, 2)) - 0.5*(Ib1 - Ib3 + l**2*m_b)*sin(2*theta(t))*Derivative(phi(t), t)**2"
            ],
            "text/latex": "$\\displaystyle - g l m_{b} \\sin{\\left(\\theta{\\left(t \\right)} \\right)} + 1.0 l m_{b} \\cos{\\left(\\theta{\\left(t \\right)} \\right)} \\frac{d^{2}}{d t^{2}} x{\\left(t \\right)} + 1.0 \\left(Ib_{2} + l^{2} m_{b}\\right) \\frac{d^{2}}{d t^{2}} \\theta{\\left(t \\right)} - 0.5 \\left(Ib_{1} - Ib_{3} + l^{2} m_{b}\\right) \\sin{\\left(2 \\theta{\\left(t \\right)} \\right)} \\left(\\frac{d}{d t} \\phi{\\left(t \\right)}\\right)^{2}$"
          },
          "metadata": {}
        },
        {
          "output_type": "stream",
          "name": "stdout",
          "text": [
            "-------------------------------------\n"
          ]
        }
      ]
    },
    {
      "cell_type": "code",
      "source": [
        "#Recalculating the Canonical equations, now considering q = [x_c, y_c theta, psi]^T\n",
        "q2 = sp.Matrix([[x_c(t)],\\\n",
        "               [y_c(t)],\\\n",
        "                [phi(t)],\\\n",
        "                [theta(t)]\n",
        "                ])\n",
        "q2_dot = sp.diff(q2, t)\n",
        "#------------------------------------------------------------------------------\n",
        "M_G_inv = M_G.inv()\n",
        "\n",
        "u = sp.Matrix([[tau_R],\\\n",
        "               [tau_L]\n",
        "                ])\n"
      ],
      "metadata": {
        "id": "HJLvXY8TTjnS"
      },
      "execution_count": 23,
      "outputs": []
    },
    {
      "cell_type": "code",
      "source": [
        "#Dynamic Model Linearization--------------------------------------------------\n",
        "#1) Representing the equations of motion in the form x_dot = a(x) + b(x)u\n",
        "x = sp.Matrix([[q2],\\\n",
        "               [v]])\n",
        "display(x)\n",
        "vd_dot = sp.simplify(M_G_inv*( -(C_G)*v - H_G - G_G +Q_G))\n",
        "display(vd_dot)\n",
        "\n",
        "#x_dot = f(x) + g1(x)u\n",
        "E = Q.jacobian(u)\n",
        "display(E)\n",
        "g1 = sp.Matrix([sp.zeros(len(q2), len(u)),\\\n",
        "               sp.simplify(M_G_inv*sp.transpose(G)*E)\n",
        "                ])\n",
        "Gr = G[0:4,:]\n",
        "f = sp.Matrix([Gr*v,\\\n",
        "               sp.simplify(-M_G_inv*((C_G)*v + H_G + G_G))\n",
        "                ])\n",
        "\n",
        "A = f.jacobian(x)\n",
        "A_linearized =  sp.simplify(A.subs([(theta(t), 0), (phi(t),0), (x_dot,0)]))#sp.simplify(A.subs([(theta(t), 0), (sp.diff(phi(t),t),0), (x_dot,0),( sp.cos(phi(t)), phi(t)),( sp.sin(phi(t)), phi(t))]))\n",
        "#A_linearized = sp.simplify(A.subs(theta(t), 0))\n",
        "B_linearized = sp.simplify(g1.subs(theta(t), 0))\n",
        "display(A_linearized)\n",
        "display(B_linearized)"
      ],
      "metadata": {
        "colab": {
          "base_uri": "https://localhost:8080/",
          "height": 708
        },
        "id": "PL16ksWfFrFC",
        "outputId": "f6e29410-c8fe-4c19-a650-9d865754be03"
      },
      "execution_count": 24,
      "outputs": [
        {
          "output_type": "display_data",
          "data": {
            "text/plain": [
              "Matrix([\n",
              "[                 x_c(t)],\n",
              "[                 y_c(t)],\n",
              "[                 phi(t)],\n",
              "[               theta(t)],\n",
              "[    Derivative(x(t), t)],\n",
              "[  Derivative(phi(t), t)],\n",
              "[Derivative(theta(t), t)]])"
            ],
            "text/latex": "$\\displaystyle \\left[\\begin{matrix}x_{c}{\\left(t \\right)}\\\\y_{c}{\\left(t \\right)}\\\\\\phi{\\left(t \\right)}\\\\\\theta{\\left(t \\right)}\\\\\\frac{d}{d t} x{\\left(t \\right)}\\\\\\frac{d}{d t} \\phi{\\left(t \\right)}\\\\\\frac{d}{d t} \\theta{\\left(t \\right)}\\end{matrix}\\right]$"
          },
          "metadata": {}
        },
        {
          "output_type": "display_data",
          "data": {
            "text/plain": [
              "Matrix([\n",
              "[0.25*r*(-l*m_b*r*(g*l*m_b*sin(theta(t)) - tau_L - tau_R + 0.5*(Ib1 - Ib3 + l**2*m_b)*sin(2*theta(t))*Derivative(phi(t), t)**2)*cos(theta(t)) + (Ib2 + l**2*m_b)*(1.0*l*m_b*r*(Derivative(phi(t), t)**2 + Derivative(theta(t), t)**2)*sin(theta(t)) + tau_L + tau_R))*(2.0*Ib2*J + 1.0*Ib2*m_b*r**2 + 2.0*Ib2*m_w*r**2 + 2.0*J*l**2*m_b + 1.0*l**2*m_b**2*r**2*sin(theta(t))**2 + 2.0*l**2*m_b*m_w*r**2)/(1.0*Ib2*J + 0.5*Ib2*m_b*r**2 + 1.0*Ib2*m_w*r**2 + 1.0*J*l**2*m_b + 0.5*l**2*m_b**2*r**2*sin(theta(t))**2 + 1.0*l**2*m_b*m_w*r**2)**2],\n",
              "[                                                                                                                                                                                                        -0.5*r*(d*(tau_L - tau_R) + 2.0*r*(l*m_b*sin(theta(t))*Derivative(x(t), t) + (Ib1 - Ib3 + l**2*m_b)*sin(2*theta(t))*Derivative(theta(t), t))*Derivative(phi(t), t))/(1.0*Ib1*r**2*sin(theta(t))**2 - 1.0*Ib3*r**2*sin(theta(t))**2 + 1.0*Ib3*r**2 + 0.5*J*d**2 + 2.0*K*r**2 + 0.5*d**2*m_w*r**2 + 1.0*l**2*m_b*r**2*sin(theta(t))**2)],\n",
              "[                                                                                                                    (-1.0*l*m_b*r*(1.0*l*m_b*r*(Derivative(phi(t), t)**2 + Derivative(theta(t), t)**2)*sin(theta(t)) + tau_L + tau_R)*cos(theta(t)) + (2.0*J + 1.0*m_b*r**2 + 2.0*m_w*r**2)*(g*l*m_b*sin(theta(t)) - tau_L - tau_R + 0.5*(Ib1 - Ib3 + l**2*m_b)*sin(2*theta(t))*Derivative(phi(t), t)**2))/(2.0*Ib2*J + 1.0*Ib2*m_b*r**2 + 2.0*Ib2*m_w*r**2 + 2.0*J*l**2*m_b + 1.0*l**2*m_b**2*r**2*sin(theta(t))**2 + 2.0*l**2*m_b*m_w*r**2)]])"
            ],
            "text/latex": "$\\displaystyle \\left[\\begin{matrix}\\frac{0.25 r \\left(- l m_{b} r \\left(g l m_{b} \\sin{\\left(\\theta{\\left(t \\right)} \\right)} - \\tau_{L} - \\tau_{R} + 0.5 \\left(Ib_{1} - Ib_{3} + l^{2} m_{b}\\right) \\sin{\\left(2 \\theta{\\left(t \\right)} \\right)} \\left(\\frac{d}{d t} \\phi{\\left(t \\right)}\\right)^{2}\\right) \\cos{\\left(\\theta{\\left(t \\right)} \\right)} + \\left(Ib_{2} + l^{2} m_{b}\\right) \\left(1.0 l m_{b} r \\left(\\left(\\frac{d}{d t} \\phi{\\left(t \\right)}\\right)^{2} + \\left(\\frac{d}{d t} \\theta{\\left(t \\right)}\\right)^{2}\\right) \\sin{\\left(\\theta{\\left(t \\right)} \\right)} + \\tau_{L} + \\tau_{R}\\right)\\right) \\left(2.0 Ib_{2} J + 1.0 Ib_{2} m_{b} r^{2} + 2.0 Ib_{2} m_{w} r^{2} + 2.0 J l^{2} m_{b} + 1.0 l^{2} m_{b}^{2} r^{2} \\sin^{2}{\\left(\\theta{\\left(t \\right)} \\right)} + 2.0 l^{2} m_{b} m_{w} r^{2}\\right)}{\\left(1.0 Ib_{2} J + 0.5 Ib_{2} m_{b} r^{2} + 1.0 Ib_{2} m_{w} r^{2} + 1.0 J l^{2} m_{b} + 0.5 l^{2} m_{b}^{2} r^{2} \\sin^{2}{\\left(\\theta{\\left(t \\right)} \\right)} + 1.0 l^{2} m_{b} m_{w} r^{2}\\right)^{2}}\\\\- \\frac{0.5 r \\left(d \\left(\\tau_{L} - \\tau_{R}\\right) + 2.0 r \\left(l m_{b} \\sin{\\left(\\theta{\\left(t \\right)} \\right)} \\frac{d}{d t} x{\\left(t \\right)} + \\left(Ib_{1} - Ib_{3} + l^{2} m_{b}\\right) \\sin{\\left(2 \\theta{\\left(t \\right)} \\right)} \\frac{d}{d t} \\theta{\\left(t \\right)}\\right) \\frac{d}{d t} \\phi{\\left(t \\right)}\\right)}{1.0 Ib_{1} r^{2} \\sin^{2}{\\left(\\theta{\\left(t \\right)} \\right)} - 1.0 Ib_{3} r^{2} \\sin^{2}{\\left(\\theta{\\left(t \\right)} \\right)} + 1.0 Ib_{3} r^{2} + 0.5 J d^{2} + 2.0 K r^{2} + 0.5 d^{2} m_{w} r^{2} + 1.0 l^{2} m_{b} r^{2} \\sin^{2}{\\left(\\theta{\\left(t \\right)} \\right)}}\\\\\\frac{- 1.0 l m_{b} r \\left(1.0 l m_{b} r \\left(\\left(\\frac{d}{d t} \\phi{\\left(t \\right)}\\right)^{2} + \\left(\\frac{d}{d t} \\theta{\\left(t \\right)}\\right)^{2}\\right) \\sin{\\left(\\theta{\\left(t \\right)} \\right)} + \\tau_{L} + \\tau_{R}\\right) \\cos{\\left(\\theta{\\left(t \\right)} \\right)} + \\left(2.0 J + 1.0 m_{b} r^{2} + 2.0 m_{w} r^{2}\\right) \\left(g l m_{b} \\sin{\\left(\\theta{\\left(t \\right)} \\right)} - \\tau_{L} - \\tau_{R} + 0.5 \\left(Ib_{1} - Ib_{3} + l^{2} m_{b}\\right) \\sin{\\left(2 \\theta{\\left(t \\right)} \\right)} \\left(\\frac{d}{d t} \\phi{\\left(t \\right)}\\right)^{2}\\right)}{2.0 Ib_{2} J + 1.0 Ib_{2} m_{b} r^{2} + 2.0 Ib_{2} m_{w} r^{2} + 2.0 J l^{2} m_{b} + 1.0 l^{2} m_{b}^{2} r^{2} \\sin^{2}{\\left(\\theta{\\left(t \\right)} \\right)} + 2.0 l^{2} m_{b} m_{w} r^{2}}\\end{matrix}\\right]$"
          },
          "metadata": {}
        },
        {
          "output_type": "display_data",
          "data": {
            "text/plain": [
              "Matrix([\n",
              "[ 0,  0],\n",
              "[ 0,  0],\n",
              "[ 0,  0],\n",
              "[-1, -1],\n",
              "[ 1,  0],\n",
              "[ 0,  1]])"
            ],
            "text/latex": "$\\displaystyle \\left[\\begin{matrix}0 & 0\\\\0 & 0\\\\0 & 0\\\\-1 & -1\\\\1 & 0\\\\0 & 1\\end{matrix}\\right]$"
          },
          "metadata": {}
        },
        {
          "output_type": "display_data",
          "data": {
            "text/plain": [
              "Matrix([\n",
              "[0, 0, 0,                                                                                                                                        0, 1, 0, 0],\n",
              "[0, 0, 0,                                                                                                                                        0, 0, 0, 0],\n",
              "[0, 0, 0,                                                                                                                                        0, 0, 1, 0],\n",
              "[0, 0, 0,                                                                                                                                        0, 0, 0, 1],\n",
              "[0, 0, 0,                       -1.0*g*l**2*m_b**2*r**2/(2.0*Ib2*J + 1.0*Ib2*m_b*r**2 + 2.0*Ib2*m_w*r**2 + 2.0*J*l**2*m_b + 2.0*l**2*m_b*m_w*r**2), 0, 0, 0],\n",
              "[0, 0, 0,                                                                                                                                        0, 0, 0, 0],\n",
              "[0, 0, 0, g*l*m_b*(2.0*J + 1.0*m_b*r**2 + 2.0*m_w*r**2)/(2.0*Ib2*J + 1.0*Ib2*m_b*r**2 + 2.0*Ib2*m_w*r**2 + 2.0*J*l**2*m_b + 2.0*l**2*m_b*m_w*r**2), 0, 0, 0]])"
            ],
            "text/latex": "$\\displaystyle \\left[\\begin{matrix}0 & 0 & 0 & 0 & 1 & 0 & 0\\\\0 & 0 & 0 & 0 & 0 & 0 & 0\\\\0 & 0 & 0 & 0 & 0 & 1 & 0\\\\0 & 0 & 0 & 0 & 0 & 0 & 1\\\\0 & 0 & 0 & - \\frac{1.0 g l^{2} m_{b}^{2} r^{2}}{2.0 Ib_{2} J + 1.0 Ib_{2} m_{b} r^{2} + 2.0 Ib_{2} m_{w} r^{2} + 2.0 J l^{2} m_{b} + 2.0 l^{2} m_{b} m_{w} r^{2}} & 0 & 0 & 0\\\\0 & 0 & 0 & 0 & 0 & 0 & 0\\\\0 & 0 & 0 & \\frac{g l m_{b} \\left(2.0 J + 1.0 m_{b} r^{2} + 2.0 m_{w} r^{2}\\right)}{2.0 Ib_{2} J + 1.0 Ib_{2} m_{b} r^{2} + 2.0 Ib_{2} m_{w} r^{2} + 2.0 J l^{2} m_{b} + 2.0 l^{2} m_{b} m_{w} r^{2}} & 0 & 0 & 0\\end{matrix}\\right]$"
          },
          "metadata": {}
        },
        {
          "output_type": "display_data",
          "data": {
            "text/plain": [
              "Matrix([\n",
              "[                                                                                                                                              0,                                                                                                                                               0],\n",
              "[                                                                                                                                              0,                                                                                                                                               0],\n",
              "[                                                                                                                                              0,                                                                                                                                               0],\n",
              "[                                                                                                                                              0,                                                                                                                                               0],\n",
              "[                  0.25*r*(Ib2 + l**2*m_b + l*m_b*r)/(0.5*Ib2*J + 0.25*Ib2*m_b*r**2 + 0.5*Ib2*m_w*r**2 + 0.5*J*l**2*m_b + 0.5*l**2*m_b*m_w*r**2),                   0.25*r*(Ib2 + l**2*m_b + l*m_b*r)/(0.5*Ib2*J + 0.25*Ib2*m_b*r**2 + 0.5*Ib2*m_w*r**2 + 0.5*J*l**2*m_b + 0.5*l**2*m_b*m_w*r**2)],\n",
              "[                                                                           0.5*d*r/(1.0*Ib3*r**2 + 0.5*J*d**2 + 2.0*K*r**2 + 0.5*d**2*m_w*r**2),                                                                           -0.5*d*r/(1.0*Ib3*r**2 + 0.5*J*d**2 + 2.0*K*r**2 + 0.5*d**2*m_w*r**2)],\n",
              "[(-2.0*J - 1.0*l*m_b*r - 1.0*m_b*r**2 - 2.0*m_w*r**2)/(2.0*Ib2*J + 1.0*Ib2*m_b*r**2 + 2.0*Ib2*m_w*r**2 + 2.0*J*l**2*m_b + 2.0*l**2*m_b*m_w*r**2), (-2.0*J - 1.0*l*m_b*r - 1.0*m_b*r**2 - 2.0*m_w*r**2)/(2.0*Ib2*J + 1.0*Ib2*m_b*r**2 + 2.0*Ib2*m_w*r**2 + 2.0*J*l**2*m_b + 2.0*l**2*m_b*m_w*r**2)]])"
            ],
            "text/latex": "$\\displaystyle \\left[\\begin{matrix}0 & 0\\\\0 & 0\\\\0 & 0\\\\0 & 0\\\\\\frac{0.25 r \\left(Ib_{2} + l^{2} m_{b} + l m_{b} r\\right)}{0.5 Ib_{2} J + 0.25 Ib_{2} m_{b} r^{2} + 0.5 Ib_{2} m_{w} r^{2} + 0.5 J l^{2} m_{b} + 0.5 l^{2} m_{b} m_{w} r^{2}} & \\frac{0.25 r \\left(Ib_{2} + l^{2} m_{b} + l m_{b} r\\right)}{0.5 Ib_{2} J + 0.25 Ib_{2} m_{b} r^{2} + 0.5 Ib_{2} m_{w} r^{2} + 0.5 J l^{2} m_{b} + 0.5 l^{2} m_{b} m_{w} r^{2}}\\\\\\frac{0.5 d r}{1.0 Ib_{3} r^{2} + 0.5 J d^{2} + 2.0 K r^{2} + 0.5 d^{2} m_{w} r^{2}} & - \\frac{0.5 d r}{1.0 Ib_{3} r^{2} + 0.5 J d^{2} + 2.0 K r^{2} + 0.5 d^{2} m_{w} r^{2}}\\\\\\frac{- 2.0 J - 1.0 l m_{b} r - 1.0 m_{b} r^{2} - 2.0 m_{w} r^{2}}{2.0 Ib_{2} J + 1.0 Ib_{2} m_{b} r^{2} + 2.0 Ib_{2} m_{w} r^{2} + 2.0 J l^{2} m_{b} + 2.0 l^{2} m_{b} m_{w} r^{2}} & \\frac{- 2.0 J - 1.0 l m_{b} r - 1.0 m_{b} r^{2} - 2.0 m_{w} r^{2}}{2.0 Ib_{2} J + 1.0 Ib_{2} m_{b} r^{2} + 2.0 Ib_{2} m_{w} r^{2} + 2.0 J l^{2} m_{b} + 2.0 l^{2} m_{b} m_{w} r^{2}}\\end{matrix}\\right]$"
          },
          "metadata": {}
        }
      ]
    },
    {
      "cell_type": "code",
      "source": [
        "#Solving Lagranges Equations by assuming they are equal to zero\n",
        "sols = sp.solve(E_L2-Q_G, v_dot, simplify=False, rational=False)\n",
        "display(sols)"
      ],
      "metadata": {
        "colab": {
          "base_uri": "https://localhost:8080/",
          "height": 746
        },
        "id": "tyFAzKEFVfvu",
        "outputId": "55a7bd4b-1476-496f-f03e-787894f9d13e"
      },
      "execution_count": 25,
      "outputs": [
        {
          "output_type": "display_data",
          "data": {
            "text/plain": [
              "{Derivative(phi(t), (t, 2)): -2.0*Ib1*r**2*sin(2*theta(t))*Derivative(phi(t), t)*Derivative(theta(t), t)/(2.0*Ib1*r**2*sin(theta(t))**2 - 2.0*Ib3*r**2*sin(theta(t))**2 + 2.0*Ib3*r**2 + 1.0*J*d**2 + 4.0*K*r**2 + 1.0*d**2*m_w*r**2 + 2.0*l**2*m_b*r**2*sin(theta(t))**2) + 2.0*Ib3*r**2*sin(2*theta(t))*Derivative(phi(t), t)*Derivative(theta(t), t)/(2.0*Ib1*r**2*sin(theta(t))**2 - 2.0*Ib3*r**2*sin(theta(t))**2 + 2.0*Ib3*r**2 + 1.0*J*d**2 + 4.0*K*r**2 + 1.0*d**2*m_w*r**2 + 2.0*l**2*m_b*r**2*sin(theta(t))**2) - 1.0*d*r*tau_L/(2.0*Ib1*r**2*sin(theta(t))**2 - 2.0*Ib3*r**2*sin(theta(t))**2 + 2.0*Ib3*r**2 + 1.0*J*d**2 + 4.0*K*r**2 + 1.0*d**2*m_w*r**2 + 2.0*l**2*m_b*r**2*sin(theta(t))**2) + 1.0*d*r*tau_R/(2.0*Ib1*r**2*sin(theta(t))**2 - 2.0*Ib3*r**2*sin(theta(t))**2 + 2.0*Ib3*r**2 + 1.0*J*d**2 + 4.0*K*r**2 + 1.0*d**2*m_w*r**2 + 2.0*l**2*m_b*r**2*sin(theta(t))**2) - 2.0*l**2*m_b*r**2*sin(2*theta(t))*Derivative(phi(t), t)*Derivative(theta(t), t)/(2.0*Ib1*r**2*sin(theta(t))**2 - 2.0*Ib3*r**2*sin(theta(t))**2 + 2.0*Ib3*r**2 + 1.0*J*d**2 + 4.0*K*r**2 + 1.0*d**2*m_w*r**2 + 2.0*l**2*m_b*r**2*sin(theta(t))**2) - 2.0*l*m_b*r**2*sin(theta(t))*Derivative(phi(t), t)*Derivative(x(t), t)/(2.0*Ib1*r**2*sin(theta(t))**2 - 2.0*Ib3*r**2*sin(theta(t))**2 + 2.0*Ib3*r**2 + 1.0*J*d**2 + 4.0*K*r**2 + 1.0*d**2*m_w*r**2 + 2.0*l**2*m_b*r**2*sin(theta(t))**2),\n",
              " Derivative(theta(t), (t, 2)): -1.0*Ib1*J*sin(2*theta(t))*Derivative(phi(t), t)**2/(-2.0*Ib2*J - 1.0*Ib2*m_b*r**2 - 2.0*Ib2*m_w*r**2 - 2.0*J*l**2*m_b + 1.0*l**2*m_b**2*r**2*cos(theta(t))**2 - 1.0*l**2*m_b**2*r**2 - 2.0*l**2*m_b*m_w*r**2) - 0.5*Ib1*m_b*r**2*sin(2*theta(t))*Derivative(phi(t), t)**2/(-2.0*Ib2*J - 1.0*Ib2*m_b*r**2 - 2.0*Ib2*m_w*r**2 - 2.0*J*l**2*m_b + 1.0*l**2*m_b**2*r**2*cos(theta(t))**2 - 1.0*l**2*m_b**2*r**2 - 2.0*l**2*m_b*m_w*r**2) - 1.0*Ib1*m_w*r**2*sin(2*theta(t))*Derivative(phi(t), t)**2/(-2.0*Ib2*J - 1.0*Ib2*m_b*r**2 - 2.0*Ib2*m_w*r**2 - 2.0*J*l**2*m_b + 1.0*l**2*m_b**2*r**2*cos(theta(t))**2 - 1.0*l**2*m_b**2*r**2 - 2.0*l**2*m_b*m_w*r**2) + 1.0*Ib3*J*sin(2*theta(t))*Derivative(phi(t), t)**2/(-2.0*Ib2*J - 1.0*Ib2*m_b*r**2 - 2.0*Ib2*m_w*r**2 - 2.0*J*l**2*m_b + 1.0*l**2*m_b**2*r**2*cos(theta(t))**2 - 1.0*l**2*m_b**2*r**2 - 2.0*l**2*m_b*m_w*r**2) + 0.5*Ib3*m_b*r**2*sin(2*theta(t))*Derivative(phi(t), t)**2/(-2.0*Ib2*J - 1.0*Ib2*m_b*r**2 - 2.0*Ib2*m_w*r**2 - 2.0*J*l**2*m_b + 1.0*l**2*m_b**2*r**2*cos(theta(t))**2 - 1.0*l**2*m_b**2*r**2 - 2.0*l**2*m_b*m_w*r**2) + 1.0*Ib3*m_w*r**2*sin(2*theta(t))*Derivative(phi(t), t)**2/(-2.0*Ib2*J - 1.0*Ib2*m_b*r**2 - 2.0*Ib2*m_w*r**2 - 2.0*J*l**2*m_b + 1.0*l**2*m_b**2*r**2*cos(theta(t))**2 - 1.0*l**2*m_b**2*r**2 - 2.0*l**2*m_b*m_w*r**2) - 2.0*J*g*l*m_b*sin(theta(t))/(-2.0*Ib2*J - 1.0*Ib2*m_b*r**2 - 2.0*Ib2*m_w*r**2 - 2.0*J*l**2*m_b + 1.0*l**2*m_b**2*r**2*cos(theta(t))**2 - 1.0*l**2*m_b**2*r**2 - 2.0*l**2*m_b*m_w*r**2) - 1.0*J*l**2*m_b*sin(2*theta(t))*Derivative(phi(t), t)**2/(-2.0*Ib2*J - 1.0*Ib2*m_b*r**2 - 2.0*Ib2*m_w*r**2 - 2.0*J*l**2*m_b + 1.0*l**2*m_b**2*r**2*cos(theta(t))**2 - 1.0*l**2*m_b**2*r**2 - 2.0*l**2*m_b*m_w*r**2) + 2.0*J*tau_L/(-2.0*Ib2*J - 1.0*Ib2*m_b*r**2 - 2.0*Ib2*m_w*r**2 - 2.0*J*l**2*m_b + 1.0*l**2*m_b**2*r**2*cos(theta(t))**2 - 1.0*l**2*m_b**2*r**2 - 2.0*l**2*m_b*m_w*r**2) + 2.0*J*tau_R/(-2.0*Ib2*J - 1.0*Ib2*m_b*r**2 - 2.0*Ib2*m_w*r**2 - 2.0*J*l**2*m_b + 1.0*l**2*m_b**2*r**2*cos(theta(t))**2 - 1.0*l**2*m_b**2*r**2 - 2.0*l**2*m_b*m_w*r**2) - 1.0*g*l*m_b**2*r**2*sin(theta(t))/(-2.0*Ib2*J - 1.0*Ib2*m_b*r**2 - 2.0*Ib2*m_w*r**2 - 2.0*J*l**2*m_b + 1.0*l**2*m_b**2*r**2*cos(theta(t))**2 - 1.0*l**2*m_b**2*r**2 - 2.0*l**2*m_b*m_w*r**2) - 2.0*g*l*m_b*m_w*r**2*sin(theta(t))/(-2.0*Ib2*J - 1.0*Ib2*m_b*r**2 - 2.0*Ib2*m_w*r**2 - 2.0*J*l**2*m_b + 1.0*l**2*m_b**2*r**2*cos(theta(t))**2 - 1.0*l**2*m_b**2*r**2 - 2.0*l**2*m_b*m_w*r**2) + 1.0*l**2*m_b**2*r**2*sin(theta(t))*cos(theta(t))*Derivative(phi(t), t)**2/(-2.0*Ib2*J - 1.0*Ib2*m_b*r**2 - 2.0*Ib2*m_w*r**2 - 2.0*J*l**2*m_b + 1.0*l**2*m_b**2*r**2*cos(theta(t))**2 - 1.0*l**2*m_b**2*r**2 - 2.0*l**2*m_b*m_w*r**2) + 1.0*l**2*m_b**2*r**2*sin(theta(t))*cos(theta(t))*Derivative(theta(t), t)**2/(-2.0*Ib2*J - 1.0*Ib2*m_b*r**2 - 2.0*Ib2*m_w*r**2 - 2.0*J*l**2*m_b + 1.0*l**2*m_b**2*r**2*cos(theta(t))**2 - 1.0*l**2*m_b**2*r**2 - 2.0*l**2*m_b*m_w*r**2) - 0.5*l**2*m_b**2*r**2*sin(2*theta(t))*Derivative(phi(t), t)**2/(-2.0*Ib2*J - 1.0*Ib2*m_b*r**2 - 2.0*Ib2*m_w*r**2 - 2.0*J*l**2*m_b + 1.0*l**2*m_b**2*r**2*cos(theta(t))**2 - 1.0*l**2*m_b**2*r**2 - 2.0*l**2*m_b*m_w*r**2) - 1.0*l**2*m_b*m_w*r**2*sin(2*theta(t))*Derivative(phi(t), t)**2/(-2.0*Ib2*J - 1.0*Ib2*m_b*r**2 - 2.0*Ib2*m_w*r**2 - 2.0*J*l**2*m_b + 1.0*l**2*m_b**2*r**2*cos(theta(t))**2 - 1.0*l**2*m_b**2*r**2 - 2.0*l**2*m_b*m_w*r**2) + 1.0*l*m_b*r*tau_L*cos(theta(t))/(-2.0*Ib2*J - 1.0*Ib2*m_b*r**2 - 2.0*Ib2*m_w*r**2 - 2.0*J*l**2*m_b + 1.0*l**2*m_b**2*r**2*cos(theta(t))**2 - 1.0*l**2*m_b**2*r**2 - 2.0*l**2*m_b*m_w*r**2) + 1.0*l*m_b*r*tau_R*cos(theta(t))/(-2.0*Ib2*J - 1.0*Ib2*m_b*r**2 - 2.0*Ib2*m_w*r**2 - 2.0*J*l**2*m_b + 1.0*l**2*m_b**2*r**2*cos(theta(t))**2 - 1.0*l**2*m_b**2*r**2 - 2.0*l**2*m_b*m_w*r**2) + 1.0*m_b*r**2*tau_L/(-2.0*Ib2*J - 1.0*Ib2*m_b*r**2 - 2.0*Ib2*m_w*r**2 - 2.0*J*l**2*m_b + 1.0*l**2*m_b**2*r**2*cos(theta(t))**2 - 1.0*l**2*m_b**2*r**2 - 2.0*l**2*m_b*m_w*r**2) + 1.0*m_b*r**2*tau_R/(-2.0*Ib2*J - 1.0*Ib2*m_b*r**2 - 2.0*Ib2*m_w*r**2 - 2.0*J*l**2*m_b + 1.0*l**2*m_b**2*r**2*cos(theta(t))**2 - 1.0*l**2*m_b**2*r**2 - 2.0*l**2*m_b*m_w*r**2) + 2.0*m_w*r**2*tau_L/(-2.0*Ib2*J - 1.0*Ib2*m_b*r**2 - 2.0*Ib2*m_w*r**2 - 2.0*J*l**2*m_b + 1.0*l**2*m_b**2*r**2*cos(theta(t))**2 - 1.0*l**2*m_b**2*r**2 - 2.0*l**2*m_b*m_w*r**2) + 2.0*m_w*r**2*tau_R/(-2.0*Ib2*J - 1.0*Ib2*m_b*r**2 - 2.0*Ib2*m_w*r**2 - 2.0*J*l**2*m_b + 1.0*l**2*m_b**2*r**2*cos(theta(t))**2 - 1.0*l**2*m_b**2*r**2 - 2.0*l**2*m_b*m_w*r**2),\n",
              " Derivative(x(t), (t, 2)): 0.5*Ib1*l*m_b*r**2*sin(2*theta(t))*cos(theta(t))*Derivative(phi(t), t)**2/(-2.0*Ib2*J - 1.0*Ib2*m_b*r**2 - 2.0*Ib2*m_w*r**2 - 2.0*J*l**2*m_b + 1.0*l**2*m_b**2*r**2*cos(theta(t))**2 - 1.0*l**2*m_b**2*r**2 - 2.0*l**2*m_b*m_w*r**2) - 1.0*Ib2*l*m_b*r**2*sin(theta(t))*Derivative(phi(t), t)**2/(-2.0*Ib2*J - 1.0*Ib2*m_b*r**2 - 2.0*Ib2*m_w*r**2 - 2.0*J*l**2*m_b + 1.0*l**2*m_b**2*r**2*cos(theta(t))**2 - 1.0*l**2*m_b**2*r**2 - 2.0*l**2*m_b*m_w*r**2) - 1.0*Ib2*l*m_b*r**2*sin(theta(t))*Derivative(theta(t), t)**2/(-2.0*Ib2*J - 1.0*Ib2*m_b*r**2 - 2.0*Ib2*m_w*r**2 - 2.0*J*l**2*m_b + 1.0*l**2*m_b**2*r**2*cos(theta(t))**2 - 1.0*l**2*m_b**2*r**2 - 2.0*l**2*m_b*m_w*r**2) - 1.0*Ib2*r*tau_L/(-2.0*Ib2*J - 1.0*Ib2*m_b*r**2 - 2.0*Ib2*m_w*r**2 - 2.0*J*l**2*m_b + 1.0*l**2*m_b**2*r**2*cos(theta(t))**2 - 1.0*l**2*m_b**2*r**2 - 2.0*l**2*m_b*m_w*r**2) - 1.0*Ib2*r*tau_R/(-2.0*Ib2*J - 1.0*Ib2*m_b*r**2 - 2.0*Ib2*m_w*r**2 - 2.0*J*l**2*m_b + 1.0*l**2*m_b**2*r**2*cos(theta(t))**2 - 1.0*l**2*m_b**2*r**2 - 2.0*l**2*m_b*m_w*r**2) - 0.5*Ib3*l*m_b*r**2*sin(2*theta(t))*cos(theta(t))*Derivative(phi(t), t)**2/(-2.0*Ib2*J - 1.0*Ib2*m_b*r**2 - 2.0*Ib2*m_w*r**2 - 2.0*J*l**2*m_b + 1.0*l**2*m_b**2*r**2*cos(theta(t))**2 - 1.0*l**2*m_b**2*r**2 - 2.0*l**2*m_b*m_w*r**2) + 1.0*g*l**2*m_b**2*r**2*sin(theta(t))*cos(theta(t))/(-2.0*Ib2*J - 1.0*Ib2*m_b*r**2 - 2.0*Ib2*m_w*r**2 - 2.0*J*l**2*m_b + 1.0*l**2*m_b**2*r**2*cos(theta(t))**2 - 1.0*l**2*m_b**2*r**2 - 2.0*l**2*m_b*m_w*r**2) - 1.0*l**3*m_b**2*r**2*sin(theta(t))*Derivative(phi(t), t)**2/(-2.0*Ib2*J - 1.0*Ib2*m_b*r**2 - 2.0*Ib2*m_w*r**2 - 2.0*J*l**2*m_b + 1.0*l**2*m_b**2*r**2*cos(theta(t))**2 - 1.0*l**2*m_b**2*r**2 - 2.0*l**2*m_b*m_w*r**2) - 1.0*l**3*m_b**2*r**2*sin(theta(t))*Derivative(theta(t), t)**2/(-2.0*Ib2*J - 1.0*Ib2*m_b*r**2 - 2.0*Ib2*m_w*r**2 - 2.0*J*l**2*m_b + 1.0*l**2*m_b**2*r**2*cos(theta(t))**2 - 1.0*l**2*m_b**2*r**2 - 2.0*l**2*m_b*m_w*r**2) + 0.5*l**3*m_b**2*r**2*sin(2*theta(t))*cos(theta(t))*Derivative(phi(t), t)**2/(-2.0*Ib2*J - 1.0*Ib2*m_b*r**2 - 2.0*Ib2*m_w*r**2 - 2.0*J*l**2*m_b + 1.0*l**2*m_b**2*r**2*cos(theta(t))**2 - 1.0*l**2*m_b**2*r**2 - 2.0*l**2*m_b*m_w*r**2) - 1.0*l**2*m_b*r*tau_L/(-2.0*Ib2*J - 1.0*Ib2*m_b*r**2 - 2.0*Ib2*m_w*r**2 - 2.0*J*l**2*m_b + 1.0*l**2*m_b**2*r**2*cos(theta(t))**2 - 1.0*l**2*m_b**2*r**2 - 2.0*l**2*m_b*m_w*r**2) - 1.0*l**2*m_b*r*tau_R/(-2.0*Ib2*J - 1.0*Ib2*m_b*r**2 - 2.0*Ib2*m_w*r**2 - 2.0*J*l**2*m_b + 1.0*l**2*m_b**2*r**2*cos(theta(t))**2 - 1.0*l**2*m_b**2*r**2 - 2.0*l**2*m_b*m_w*r**2) - 1.0*l*m_b*r**2*tau_L*cos(theta(t))/(-2.0*Ib2*J - 1.0*Ib2*m_b*r**2 - 2.0*Ib2*m_w*r**2 - 2.0*J*l**2*m_b + 1.0*l**2*m_b**2*r**2*cos(theta(t))**2 - 1.0*l**2*m_b**2*r**2 - 2.0*l**2*m_b*m_w*r**2) - 1.0*l*m_b*r**2*tau_R*cos(theta(t))/(-2.0*Ib2*J - 1.0*Ib2*m_b*r**2 - 2.0*Ib2*m_w*r**2 - 2.0*J*l**2*m_b + 1.0*l**2*m_b**2*r**2*cos(theta(t))**2 - 1.0*l**2*m_b**2*r**2 - 2.0*l**2*m_b*m_w*r**2)}"
            ]
          },
          "metadata": {}
        }
      ]
    }
  ]
}